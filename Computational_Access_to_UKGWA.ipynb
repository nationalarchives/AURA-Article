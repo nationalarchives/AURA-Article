{
 "cells": [
  {
   "cell_type": "markdown",
   "metadata": {
    "colab_type": "text",
    "id": "view-in-github"
   },
   "source": [
    "<a href=\"https://colab.research.google.com/github/nationalarchives/UKGWA-computational-access/blob/main/Computational_Access_to_UKGWA.ipynb\" target=\"_parent\"><img src=\"https://colab.research.google.com/assets/colab-badge.svg\" alt=\"Open In Colab\"/></a>"
   ]
  },
  {
   "cell_type": "markdown",
   "metadata": {
    "id": "oWzsYl3oajdo"
   },
   "source": [
    "This notebook is associated with a paper submmitted to Archival Science. The notebook introduces sources of data for computational analysis of the UK Government Web Archive (UKGWA). The purpose of the notebook is not to demonstrate innovative data analysis methods, but rather to illustrate issues and considerations when accessing the collection as data.\n",
    "\n",
    "The notebooks consists of 3 sections:\n",
    "\n",
    "\n",
    "\n",
    "1.   Searching for UKGWA within Discovery\n",
    "2.   Using the CDX API\n",
    "3.   Using the A-Z Index\n",
    "\n"
   ]
  },
  {
   "cell_type": "markdown",
   "metadata": {
    "id": "u4rLGjTYsO4V"
   },
   "source": [
    "## Library imports and behind the scenes setup\n",
    "\n",
    "Click the run arrow to run several items at once."
   ]
  },
  {
   "cell_type": "code",
   "execution_count": 1,
   "metadata": {
    "id": "mJKbS_8JgUNY"
   },
   "outputs": [],
   "source": [
    "import sys\n",
    "import os\n",
    "import shutil\n",
    "from matplotlib import pyplot\n",
    "from matplotlib.pyplot import figure\n",
    "from operator import itemgetter\n",
    "import datetime\n",
    "import plotly.graph_objects as go\n",
    "# Function to convert snapshot timestamp to a date\n",
    "snap_to_date = lambda d : datetime.datetime.strptime(str(d), '%Y%m%d%H%M%S') # %I:%M%p')"
   ]
  },
  {
   "cell_type": "code",
   "execution_count": 2,
   "metadata": {
    "colab": {
     "base_uri": "https://localhost:8080/"
    },
    "id": "Fq0MyR2bglrM",
    "outputId": "ff45afdc-1b43-47f6-b068-4475a6e36e68"
   },
   "outputs": [
    {
     "name": "stdout",
     "output_type": "stream",
     "text": [
      "Cloning into 'UKGWA-computational-access'...\n",
      "remote: Enumerating objects: 246, done.\u001b[K\n",
      "remote: Counting objects: 100% (246/246), done.\u001b[K\n",
      "remote: Compressing objects: 100% (189/189), done.\u001b[K\n",
      "remote: Total 246 (delta 135), reused 130 (delta 53), pack-reused 0\u001b[K\n",
      "Receiving objects: 100% (246/246), 16.10 MiB | 22.02 MiB/s, done.\n",
      "Resolving deltas: 100% (135/135), done.\n"
     ]
    }
   ],
   "source": [
    "if os.path.isdir('UKGWA-computational-access'):\n",
    "    shutil.rmtree('UKGWA-computational-access')\n",
    "!git clone https://github.com/nationalarchives/UKGWA-computational-access.git\n",
    "sys.path.insert(0, 'UKGWA-computational-access/Code')\n",
    "data_folder = \"./UKGWA-computational-access/Data/\""
   ]
  },
  {
   "cell_type": "code",
   "execution_count": 3,
   "metadata": {
    "id": "B4LiPQ22hGQY"
   },
   "outputs": [],
   "source": [
    "from disco_search import DiscoSearch\n",
    "from ukgwa_textindex import UKGWATextIndex\n",
    "from ukgwa_cdx_indexer import TemporalIndexer\n",
    "from ukgwa_index import UKGWAIndex\n",
    "from ukgwa_url import UKGWAurl"
   ]
  },
  {
   "cell_type": "markdown",
   "metadata": {
    "id": "Snsw5XoHsdEz"
   },
   "source": [
    "## Search for web archive entries in Discovery\n",
    "\n",
    "Discovery is the online catalogue of The National Archives, UK. For computational access there is an API (Application Programming Interface) which can be explored at this site: https://discovery.nationalarchives.gov.uk/API/sandbox/index\n",
    "\n",
    "There is no existing indicator in the catalogue for UKGWA sites but all of their descriptions include the words 'web' and 'snapshot(s)'. This is therefore a reliable method of finding UKGWA records, since these would be a rare combination in other contexts.\n",
    "\n",
    "To simplify the notebook, and because the API has the above sandbox environment for direct experimentation, we have built library code to perform the search. The first code block performs a search and stores the results in a DiscoSearch object called D. DiscoSearch objects are iterable so we can loop over the contents which will return all of the IAIDs of UKGWA records. The code stops after one loop so only shows the first record. The lookup method takes an IAID as an input and returns the data for that record which has been extracted through the API.\n",
    "To view a record in Discovery itself you can append the IAID to the following URL: https://discovery.nationalarchives.gov.uk/details/r/\n",
    "\n",
    "<b>Estimated time to run the cell: 30-40 seconds</b>"
   ]
  },
  {
   "cell_type": "code",
   "execution_count": 4,
   "metadata": {
    "colab": {
     "base_uri": "https://localhost:8080/"
    },
    "id": "4MettFsy4qnt",
    "outputId": "be027a73-03c6-4122-96c6-8c7de71474ed"
   },
   "outputs": [
    {
     "name": "stdout",
     "output_type": "stream",
     "text": [
      "IAID: C14142439\n",
      "id           : C14142439\n",
      "description  : Website: Final report, transcripts of hearings, submitted evidence, minutes of meetings, etc. (This snapshot taken on 01/11/2006). [Please Note: These digital records are presented via the UK Government Web Archive ].\n",
      "startDate    : 01/01/1998\n",
      "endDate      : 01/11/2006\n",
      "urlParameters : 66/1/C163/0/C16577/0/0/C14142439\n",
      "adminHistory : \n",
      "context      : Inquiry into the management of care of children receiving complex heart surgery at the Bristol Royal Infirmary: records: Digital Records formerly in JA 4.\n",
      "taxonomies   : ['C10012 Children', 'C10115 Welfare']\n",
      "reference    : JA 11/4\n"
     ]
    }
   ],
   "source": [
    "D = DiscoSearch()\n",
    "D.add_entry('web AND snapshots')\n",
    "for d in D:\n",
    "    print(\"IAID:\",d)\n",
    "    data = D.lookup(d)\n",
    "    for k,ix in D.fields.items():\n",
    "        print(k.ljust(12),\":\",data[ix])\n",
    "    break"
   ]
  },
  {
   "cell_type": "markdown",
   "metadata": {
    "id": "9gBd8ERls4P5"
   },
   "source": [
    "The get_field method returns the value of a single field from the Data for a given IAID. Run this code block to see the available fields extracted from the API.\n",
    "(You may notice 5 of these used later in the notebook - the next code block down uses 'reference', for example)"
   ]
  },
  {
   "cell_type": "code",
   "execution_count": 5,
   "metadata": {
    "colab": {
     "base_uri": "https://localhost:8080/"
    },
    "id": "1RfC4ppUgnck",
    "outputId": "ca93411e-e593-4faf-c735-1b16a510521a"
   },
   "outputs": [
    {
     "data": {
      "text/plain": [
       "dict_keys(['id', 'description', 'startDate', 'endDate', 'urlParameters', 'adminHistory', 'context', 'taxonomies', 'reference'])"
      ]
     },
     "execution_count": 5,
     "metadata": {},
     "output_type": "execute_result"
    }
   ],
   "source": [
    "D.fields.keys()"
   ]
  },
  {
   "cell_type": "markdown",
   "metadata": {
    "id": "itzw9NF2bFMn"
   },
   "source": [
    "We begin by counting websites by department and printing out the top 10 results. The Department of Health has by far the most sites reflecting the diverse nature of the NHS and its remit around public health messaging."
   ]
  },
  {
   "cell_type": "code",
   "execution_count": 6,
   "metadata": {
    "id": "_rIXDvXxaoZK"
   },
   "outputs": [
    {
     "name": "stdout",
     "output_type": "stream",
     "text": [
      "Department: JA    \tSites: 826\n",
      "Department: GUK   \tSites: 352\n",
      "Department: PF    \tSites: 287\n",
      "Department: MAF   \tSites: 276\n",
      "Department: RH    \tSites: 216\n",
      "Department: CAB   \tSites: 186\n",
      "Department: BIS   \tSites: 183\n",
      "Department: DEFE  \tSites: 159\n",
      "Department: HO    \tSites: 132\n",
      "Department: CLG   \tSites: 124\n",
      "Department: DFT   \tSites: 113\n",
      "Department: MJ    \tSites: 112\n",
      "Department: DGOV  \tSites: 109\n",
      "Department: BEIS  \tSites: 97\n",
      "Department: T     \tSites: 86\n",
      "Department: JB    \tSites: 80\n",
      "Department: AHDB  \tSites: 71\n",
      "Department: AT    \tSites: 68\n",
      "Department: HA    \tSites: 68\n",
      "Department: CES   \tSites: 67\n"
     ]
    }
   ],
   "source": [
    "N = 20 # <-- Change this value to see more (or fewer)\n",
    "departments = {}\n",
    "for idx in D:\n",
    "    dep = D.get_field(idx, \"reference\").split(\" \")[0]\n",
    "    if dep in departments:\n",
    "        departments[dep] += 1\n",
    "    else:\n",
    "        departments[dep] = 1\n",
    "\n",
    "top_deps = sorted([[k,v] for k,v in departments.items()], key=itemgetter(1), reverse=True)\n",
    "for d in top_deps[0:N]:\n",
    "    print(\"Department:\",d[0].ljust(5), \"\\tSites:\", d[1])"
   ]
  },
  {
   "cell_type": "markdown",
   "metadata": {
    "id": "HTCZBnhIji6r"
   },
   "source": [
    "This code block extracts the startDate field, extracts the year (last 4 characters) and produces a summary counting records per year. Blank years and those earlier than 1996 (year the UKGWA started) are filtered out (very few are removed by this step but the chart is cleaner). The results are then visualised in a bar chart."
   ]
  },
  {
   "cell_type": "code",
   "execution_count": 7,
   "metadata": {
    "colab": {
     "base_uri": "https://localhost:8080/",
     "height": 283
    },
    "id": "kkHn0aA6nvme",
    "outputId": "d34c1126-4082-4a82-81ee-4989efe14a07"
   },
   "outputs": [
    {
     "data": {
      "text/plain": [
       "<BarContainer object of 25 artists>"
      ]
     },
     "execution_count": 7,
     "metadata": {},
     "output_type": "execute_result"
    },
    {
     "data": {
      "image/png": "[encoded data removed]",
      "text/plain": [
       "<Figure size 432x288 with 1 Axes>"
      ]
     },
     "metadata": {
      "needs_background": "light"
     },
     "output_type": "display_data"
    }
   ],
   "source": [
    "years = {}\n",
    "for idx in D:\n",
    "    yr = D.get_field(idx, \"startDate\")[-4:]\n",
    "    if yr.isnumeric():\n",
    "        yr = int(yr)\n",
    "    else:\n",
    "        continue\n",
    "    if yr >= 1996:\n",
    "        if yr in years:\n",
    "            years[yr] += 1\n",
    "        else:\n",
    "            years[yr] = 1\n",
    "\n",
    "years, counts = zip(*sorted([[y,c] for y,c in years.items()], key=itemgetter(0), reverse=False))\n",
    "\n",
    "pyplot.bar(years,counts)"
   ]
  },
  {
   "cell_type": "markdown",
   "metadata": {
    "id": "CpyZHARutTdL"
   },
   "source": [
    "Catalogue records are usually assigned one or more taxonomy categories. Here we summarise the records by category and print out the top 10 (set value of N to print more) most common categories.\n",
    "\n"
   ]
  },
  {
   "cell_type": "code",
   "execution_count": 8,
   "metadata": {
    "colab": {
     "base_uri": "https://localhost:8080/"
    },
    "id": "V7tLfmHav4IJ",
    "outputId": "935f4e15-f25f-4533-c08c-47ed645a70f3"
   },
   "outputs": [
    {
     "name": "stdout",
     "output_type": "stream",
     "text": [
      "Category: C10136 Official publications                       Count: 3965\n",
      "Category: C10070 National Health Service                     Count: 175\n",
      "Category: C10036 Farming                                     Count: 87\n",
      "Category: C10108 Trade and commerce                          Count: 75\n",
      "Category: C10039 Food and drink                              Count: 75\n",
      "Category: C10052 Labour                                      Count: 59\n",
      "Category: C10105 Sports                                      Count: 57\n",
      "Category: C10077 Pay and pensions                            Count: 53\n",
      "Category: C10043 Government finances                         Count: 46\n",
      "Category: C10096 Research                                    Count: 45\n",
      "Category: C10012 Children                                    Count: 35\n",
      "Category: C10067 Museums and galleries                       Count: 32\n",
      "Category: C10098 Road transport                              Count: 29\n",
      "Category: C10004 Archives and libraries                      Count: 27\n",
      "Category: C10065 Armed Forces (General Administration)       Count: 26\n",
      "Category: C10132 Ireland                                     Count: 26\n",
      "Category: C10016 Communications                              Count: 26\n",
      "Category: C10058 Maps and plans                              Count: 25\n",
      "Category: C10033 Education                                   Count: 25\n",
      "Category: C10106 Taxation                                    Count: 24\n"
     ]
    }
   ],
   "source": [
    "N = 20  # <-- Change this value to see more (or fewer) rows\n",
    "\n",
    "taxonomies = {}\n",
    "for idx in D:\n",
    "    tax = D.get_field(idx, \"taxonomies\")\n",
    "    for t in tax:\n",
    "        if t in taxonomies:\n",
    "            taxonomies[t] += 1\n",
    "        else:\n",
    "            taxonomies[t] = 1\n",
    "\n",
    "sorted_taxonomies = sorted([(k,v) for k,v in taxonomies.items()], key=itemgetter(1), reverse=True)\n",
    "for i in range(N):\n",
    "    print(\"Category:\", sorted_taxonomies[i][0].ljust(50), \"Count:\", sorted_taxonomies[i][1])"
   ]
  },
  {
   "cell_type": "markdown",
   "metadata": {
    "id": "3m5iZQuotb7E"
   },
   "source": [
    "Create a searchable index of the text from record descriptions. There is no data cleaning step involved here so punctuation is not removed. However, stop words are removed - the list of included stop words is in the code and can be changed by adding words in quotes, with a comma between words.\n",
    "\n",
    "<b> Estimated run time: 30 seconds </b>"
   ]
  },
  {
   "cell_type": "code",
   "execution_count": 9,
   "metadata": {
    "id": "gUTUSk1bhRCj"
   },
   "outputs": [
    {
     "name": "stdout",
     "output_type": "stream",
     "text": [
      "Started...\n",
      "Finished\n"
     ]
    }
   ],
   "source": [
    "print(\"Started...\")\n",
    "T_Desc = UKGWATextIndex(stop_words = [\"\", \"and\", \"of\", \"the\", \"in\", \"a\", \"by\", \"which\", \"their\",\"as\",\"an\",\n",
    "                                 \"for\",\"to\",\"if\",\"be\",\"this\",\"on\",\"are\",\"at\",\"were\",\"it\",\"is\",\"that\",\n",
    "                                 \"from\",\"been\",\"has\",\"have\",\"or\",\"there\",\"was\",\"they\",\"with\",\"these\"])\n",
    "\n",
    "for idx in D:\n",
    "    desc = D.get_field(idx, \"description\")\n",
    "    T_Desc.add_entry(idx, desc.split(\" \"))\n",
    "    \n",
    "print(\"Finished\")"
   ]
  },
  {
   "cell_type": "markdown",
   "metadata": {
    "id": "IEt3axmKjtOT"
   },
   "source": [
    "Get the most common N phrases from the text index. Again change the value of N to see more rows.\n",
    "The code prints out a phrase alongside a count of occurrences of that phrase in the descriptions.\n",
    "We see that the descriptions are generally formulaic, boilerplate, text explaining the archival process behind creating snapshots of web sites."
   ]
  },
  {
   "cell_type": "code",
   "execution_count": 10,
   "metadata": {
    "colab": {
     "base_uri": "https://localhost:8080/"
    },
    "id": "pf12p-oZhp6-",
    "outputId": "9d1a57a8-949c-4adb-fba0-a2bac70bea04"
   },
   "outputs": [
    {
     "name": "stdout",
     "output_type": "stream",
     "text": [
      "series contains dated gathered versions (or 'snapshots') Count: 2903\n",
      "website. [please note: records may accessed via uk government web archive ]. Count: 2832\n",
      "website. [please note: records may accessed via uk government web archive using links listed below (for general explanation parallel links, please see arrangement field)]: Count: 487\n",
      "series contains links gathered versions (or 'snapshots') Count: 457\n",
      "website. [please note: records may accessed via uk government web archive]. Count: 316\n",
      "website. [please note: records may accessed via uk government web archive. ]. Count: 262\n",
      "series contains dated gathered versions (or 'snapshots') national Count: 181\n",
      "website. [please note: records may accessed via uk government web archive.]. Count: 158\n",
      "series contains dated gathered versions (or 'snapshots') uk Count: 104\n",
      "- gov.uk blog website. [please note: records may accessed via uk government web archive ]. Count: 97\n",
      "series contains dated gathered versions (or 'snapshots') department Count: 93\n",
      "series contains links gathered versions (or 'snapshots') nhs Count: 91\n",
      "series contains dated gathered versions (or 'snapshots') british Count: 86\n",
      "series contains links gathered versions (or 'snapshots') national health service (nhs) Count: 82\n",
      "series contains links gathered versions (or 'snapshots') national health service (nhs): Count: 77\n",
      "[please note: records may accessed via uk government web archive ]. Count: 65\n",
      "service website. [please note: records may accessed via uk government web archive ]. Count: 61\n",
      "blog website. [please note: records may accessed via uk government web archive ]. Count: 58\n",
      "advisory committee Count: 58\n",
      "(directgov) website. [please note: records may accessed via uk government web archive ]. Count: 53\n"
     ]
    }
   ],
   "source": [
    "N = 20  # <-- Change this value to see more top phrases\n",
    "\n",
    "P = T_Desc.get_phrases(min_count = 20, min_length = 2)  # Phrases occurring at least 20 times with at least 2 words in them\n",
    "P.sort(key=itemgetter(1), reverse=True)\n",
    "for p in P[:N]:\n",
    "    print(\" \".join(p[0]), \"Count:\",p[1])"
   ]
  },
  {
   "cell_type": "markdown",
   "metadata": {
    "id": "Wczr_rPztkHQ"
   },
   "source": [
    "Repeat the indexing steps but this time using the the Administrative History of the records if they have one.\n",
    "\n",
    "<b>Estimated time to run: 35s</b>"
   ]
  },
  {
   "cell_type": "code",
   "execution_count": 11,
   "metadata": {
    "id": "Kn6m90eJnBns"
   },
   "outputs": [
    {
     "name": "stdout",
     "output_type": "stream",
     "text": [
      "Started...\n",
      "Finished\n"
     ]
    }
   ],
   "source": [
    "print(\"Started...\")\n",
    "T_Admin = UKGWATextIndex(stop_words = [\"\", \"and\", \"of\", \"the\", \"in\", \"a\", \"by\", \"which\", \"their\",\"as\",\"an\",\n",
    "                                 \"for\",\"to\",\"if\",\"be\",\"this\",\"on\",\"are\",\"at\",\"were\",\"it\",\"is\",\"that\",\n",
    "                                 \"from\",\"been\",\"has\",\"have\",\"or\",\"there\",\"was\",\"they\",\"with\",\"these\"])\n",
    "\n",
    "for idx in D:\n",
    "    admin = D.get_field(idx, \"adminHistory\")\n",
    "    T_Admin.add_entry(idx, admin.split(\" \"))\n",
    "print(\"Finished\")"
   ]
  },
  {
   "cell_type": "markdown",
   "metadata": {
    "id": "MsnmIGT6trW6"
   },
   "source": [
    "Print out the top N phrases. This time the phrases are more informative but the coverage is a lot less."
   ]
  },
  {
   "cell_type": "code",
   "execution_count": 12,
   "metadata": {
    "colab": {
     "base_uri": "https://localhost:8080/"
    },
    "id": "txkTG8tsnHcO",
    "outputId": "f4376395-7724-454e-cae1-ff8994dbafa7"
   },
   "outputs": [
    {
     "name": "stdout",
     "output_type": "stream",
     "text": [
      "set up 97\n",
      "1 april 77\n",
      "uk government 64\n",
      "secretary state 62\n",
      "executive agency 35\n",
      "regional development 34\n",
      "department education 34\n",
      "east midlands 31\n",
      "development agency 31\n",
      "public sector 31\n",
      "local government 30\n",
      "england wales. 30\n",
      "department health 30\n",
      "higher education 29\n",
      "east england 29\n",
      "advisory non-departmental public body 28\n",
      "funded department 28\n",
      "northern ireland 27\n",
      "advisory committee 27\n",
      "legal services 26\n"
     ]
    }
   ],
   "source": [
    "N = 20  # Change this value to see more phrases.\n",
    "\n",
    "P = T_Admin.get_phrases(min_count = 15, min_length = 2)  # Phrases occurring at least 15 times with at least 2 words in them\n",
    "P.sort(key=itemgetter(1), reverse=True)\n",
    "top_admin_refs = {}\n",
    "for p in P[:N]:\n",
    "    print(\" \".join(p[0]), p[1])\n",
    "    text = \" \".join(p[0])\n",
    "    top_admin_ids = [x for x in T_Admin._filter(\"\",\"\",p[0])]\n",
    "    top_admin_refs[text] = top_admin_ids"
   ]
  },
  {
   "cell_type": "markdown",
   "metadata": {
    "id": "RO5NR-aFe7d-"
   },
   "source": [
    "## Using the CDX API - temporal analysis of the web archive\n",
    "\n",
    "CDX is a data format output by the Heritrix web crawler that captures high level information about an archived web resource, such as: snapshot date, mime type, status code (e.g. 200, 404), checksum.\n",
    "\n",
    "We can use it to view the snapshot history of a site, and will use the Environment Agency home page as an example.\n",
    "The TemporalIndexer object contains library code to query the CDX API for a site, store the results, but also calculate minimum and maximum dates."
   ]
  },
  {
   "cell_type": "code",
   "execution_count": 13,
   "metadata": {
    "colab": {
     "base_uri": "https://localhost:8080/"
    },
    "id": "VtDvD-X_B6MN",
    "outputId": "4a88da16-fd79-4fc2-828f-cfb307c3eac3"
   },
   "outputs": [
    {
     "data": {
      "text/plain": [
       "[('MIN', 200011090043),\n",
       " ('MAX', 20211030002743),\n",
       " ('COUNT', 889),\n",
       " ('CDX', <ukgwa_cdx_reader.CDXReader at 0x7fa494b46240>)]"
      ]
     },
     "execution_count": 13,
     "metadata": {},
     "output_type": "execute_result"
    }
   ],
   "source": [
    "T = TemporalIndexer()\n",
    "website = 'www.environment-agency.gov.uk'\n",
    "T.add_entry(website)\n",
    "[(T.field_list[i], v) for i,v in enumerate(T.lookup(website))]"
   ]
  },
  {
   "cell_type": "markdown",
   "metadata": {
    "id": "hNrutg4Vzo6F"
   },
   "source": [
    "We can plot the history of a website and changes over time using the CDX data. The checksum from CDX is used to derive a CHANGED indicator to show whether a page has been updated in any way since the previous snapshot.\n",
    "\n",
    "In the graph output, the upper (black) points represent unchanged snapshots, and the lower (pink) points represent those which have changed. We see the density of points increasing between 2008 and 2014 indicating increased archiving activity. This results in more duplicate pages but also suggests a greater percentage of updates are being captured. Contrast with 2004-2008 where we can not be sure all changes are represented in the archive. After 2014 all of the dots are black. Analysis of status code for these snapshots shows that the page was redirected in 2014 and the redirect message itself remains consistent throughout."
   ]
  },
  {
   "cell_type": "code",
   "execution_count": 14,
   "metadata": {
    "colab": {
     "base_uri": "https://localhost:8080/",
     "height": 119
    },
    "id": "nnE7ji6_x6Oc",
    "outputId": "3b6f9bf6-d90f-4e07-cef9-32dfe8fa3f82"
   },
   "outputs": [
    {
     "data": {
      "image/png": "[encoded data removed]",
      "text/plain": [
       "<Figure size 1080x72 with 1 Axes>"
      ]
     },
     "metadata": {
      "needs_background": "light"
     },
     "output_type": "display_data"
    }
   ],
   "source": [
    "cdx_data = T.get_field(website, 'CDX')\n",
    "date_list = [snap_to_date(x) for x in cdx_data]\n",
    "changes = [cdx_data.get_field(c, 'CHANGED') for c in cdx_data]\n",
    "colour_list = ['#e56db1' if c else '#000000' for c in changes]\n",
    "xs = date_list\n",
    "ys = [-1 if c else 1 for c in changes]\n",
    "figure(figsize=(15, 1))\n",
    "pyplot.scatter(xs, ys, s=3, c = colour_list)\n",
    "pyplot.xticks(rotation=45, ha='right')\n",
    "pyplot.yticks([-1,1], ['Changed','Unchanged'])\n",
    "pyplot.show()"
   ]
  },
  {
   "cell_type": "markdown",
   "metadata": {
    "id": "PDqouhYu1mpN"
   },
   "source": [
    "That was for a single page. What happens if we wish to analyse more pages? We can use the code from earlier to loop through a list of urls and read their snapshot details from the CDX data. However, that could be seen as computationally wasteful if every user of the notebook requests details of the same pages.\n",
    "Once a row of CDX data is created, it does not change. So we have created an extract of the data which can be loaded into our TemporalIndexer. This does not mean the file will always be up to date, but it provides a baseline set of data which could be appended to via the API which will require less processing time than a full refresh.\n",
    "This data is based on a list of all of the home pages found in the A-Z index of the UKGWA. The A-Z data will be looked at in the next section of this notebook."
   ]
  },
  {
   "cell_type": "code",
   "execution_count": 15,
   "metadata": {
    "id": "KEHCymNsCMLi"
   },
   "outputs": [],
   "source": [
    "T.load_from_gzip(data_folder + \"ukgwa_cdx_data.psv.gz\")"
   ]
  },
  {
   "cell_type": "markdown",
   "metadata": {
    "id": "esZOlZDzHJpe"
   },
   "source": [
    "Having loaded the CDX data we can now recreate the barchart created from the catalogue but this time using data generated by the archiving process.\n",
    "We can see by comparing the two charts that there are a few differences, particularly in the pre-2005 section. This is understandable for a few reasons. The Discovery catalogue is updated manually rather than through an automated feed, so we can not expect it to be completely up to date - there are many competing priorities in cataloguing. Secondly, the start date in the catalogue may reflect the date of documents related to the web archive but not the web archive itself.\n",
    "This kind of data driven analysis does highlight the discrepancies between the two sources though, and should trigger further investigation to understand whether the differences are in interpretation, or due to data quality."
   ]
  },
  {
   "cell_type": "code",
   "execution_count": 16,
   "metadata": {
    "colab": {
     "base_uri": "https://localhost:8080/",
     "height": 283
    },
    "id": "e2PNIDBTCi6h",
    "outputId": "c0991fb3-c171-420d-e653-5c27ce8d4503"
   },
   "outputs": [
    {
     "data": {
      "text/plain": [
       "<BarContainer object of 24 artists>"
      ]
     },
     "execution_count": 16,
     "metadata": {},
     "output_type": "execute_result"
    },
    {
     "data": {
      "image/png": "[encoded data removed]",
      "text/plain": [
       "<Figure size 432x288 with 1 Axes>"
      ]
     },
     "metadata": {
      "needs_background": "light"
     },
     "output_type": "display_data"
    }
   ],
   "source": [
    "cdx_years = {}\n",
    "for idx in T:\n",
    "    yr = str(T.get_field(idx, \"MIN\"))[:4]\n",
    "    if yr.isnumeric():\n",
    "        yr = int(yr)\n",
    "    else:\n",
    "        continue\n",
    "    if yr >= 1996:\n",
    "        if yr in cdx_years:\n",
    "            cdx_years[yr] += 1\n",
    "        else:\n",
    "            cdx_years[yr] = 1\n",
    "\n",
    "years, counts = zip(*sorted([[y,c] for y,c in cdx_years.items()], key=itemgetter(0), reverse=False))\n",
    "\n",
    "pyplot.bar(years,counts)"
   ]
  },
  {
   "cell_type": "markdown",
   "metadata": {
    "id": "mp9dbBSVIog-"
   },
   "source": [
    "## UKGWA's A to Z index\n",
    "\n",
    "The A-Z index lists every website which has been archived by UKGWA. It is held in an HTML page and so the text and urls need to be scraped from that page and transformed into data.\n",
    "\n",
    "This library code does just that. The UKGWAIndex object is a container for the data, and the indexfromweb method reads the data from the A-Z web page."
   ]
  },
  {
   "cell_type": "code",
   "execution_count": 17,
   "metadata": {
    "colab": {
     "base_uri": "https://localhost:8080/"
    },
    "id": "c313dy2mFkAh",
    "outputId": "987c9012-03cf-419c-9fde-ae4ddacc7252"
   },
   "outputs": [
    {
     "data": {
      "text/plain": [
       "['UKGWA.1',\n",
       " 'A sample campaign – Just another GOV.UK campaigns site',\n",
       " 'ukgwa',\n",
       " https://webarchive.nationalarchives.gov.uk/ukgwa/*/https://sample.campaign.gov.uk/,\n",
       " 'N']"
      ]
     },
     "execution_count": 17,
     "metadata": {},
     "output_type": "execute_result"
    }
   ],
   "source": [
    "W = UKGWAIndex()\n",
    "W.indexfromweb()\n",
    "W.lookup('UKGWA.1')"
   ]
  },
  {
   "cell_type": "markdown",
   "metadata": {
    "id": "-u0uQGqFJJ5X"
   },
   "source": [
    "The fields list shows there are 5 fields in the data. The REF is autogenerated and is meaningless outside the context of this notebook (e.g. UKGWA.1). The TEXT field is a description of the website, and URL is self-explantory. The CAT field shows what kind of web resource the URL points to. For web pages this value will be set to '*', but you will also find values such as 'twitter' and 'youtube'. The notebook will focus on the '*' URLs since the social media ones are not meant for computational access. The 'CATREF' field requires supplementary data but provides a link between UKGWA and Discovery."
   ]
  },
  {
   "cell_type": "code",
   "execution_count": 18,
   "metadata": {
    "colab": {
     "base_uri": "https://localhost:8080/"
    },
    "id": "Ehn9e5Y4ISwh",
    "outputId": "dd2deed6-ad77-4650-86be-80916cd20fc5"
   },
   "outputs": [
    {
     "data": {
      "text/plain": [
       "['REF', 'TEXT', 'CAT', 'URL', 'CATREF']"
      ]
     },
     "execution_count": 18,
     "metadata": {},
     "output_type": "execute_result"
    }
   ],
   "source": [
    "W.field_list"
   ]
  },
  {
   "cell_type": "markdown",
   "metadata": {
    "id": "onJR-a2bKR81"
   },
   "source": [
    "The next two items of code will look familiar, they index the description text to find common phrases in the descriptions.\n",
    "\n",
    "<b>Estimate run time: 10 seconds</b>"
   ]
  },
  {
   "cell_type": "code",
   "execution_count": 19,
   "metadata": {
    "id": "pWYikDW6IBZL"
   },
   "outputs": [],
   "source": [
    "T_ukgwa = UKGWATextIndex(stop_words = [\"\", \"and\", \"of\", \"the\", \"in\", \"a\", \"by\", \"which\", \"their\",\"as\",\"an\",\n",
    "                                 \"for\",\"to\",\"if\",\"be\",\"this\",\"on\",\"are\",\"at\",\"were\",\"it\",\"is\",\"that\",\n",
    "                                 \"from\",\"been\",\"has\",\"have\",\"or\",\"there\",\"was\",\"they\",\"with\",\"these\"])\n",
    "for w in W:\n",
    "    if W.get_field(w, 'CAT') in ['ukgwa','*']:\n",
    "        T_ukgwa.add_entry(w, W.get_field(w, \"TEXT\").split(\" \"))\n"
   ]
  },
  {
   "cell_type": "markdown",
   "metadata": {
    "id": "uyhYFdSxKsFj"
   },
   "source": [
    "The descriptions are often in two parts with a '-' separating them, with each part having a different meaning. Which is why '- gov.uk blog' comes out as a top hit. A better way to index this text is by breaking descriptions into two using that '-' as a delimiter. But this simple approach does enough to highlight the types of material in the web archive. NHS is obviously a very large department but has considerably more sites than other departments, perhaps highlighting the diversity of its remit. A number of sites are marked as being related to 'covid-19', a piece of information that was visible in Discovery. "
   ]
  },
  {
   "cell_type": "code",
   "execution_count": 20,
   "metadata": {
    "colab": {
     "base_uri": "https://localhost:8080/"
    },
    "id": "lfHxnVm0Isvj",
    "outputId": "8d98ce93-6fc2-4dc9-e732-85e551259dd0"
   },
   "outputs": [
    {
     "name": "stdout",
     "output_type": "stream",
     "text": [
      "– gov.uk blog 148\n",
      "national health service (nhs) – 140\n",
      "gov.uk – 93\n",
      "national health service (nhs) 87\n",
      "national institute health research (nihr) – 62\n",
      "advisory committee 59\n",
      "– covid-19 48\n",
      "hm revenue & customs (hmrc) – 36\n",
      "directgov – 35\n",
      "department environment, food rural affairs (defra) – 34\n",
      "– data 33\n",
      "department health (dh) – 32\n",
      "agriculture horticulture development board (ahdb) – 31\n",
      "clinical commissioning group (ccg) 30\n",
      "– coronavirus (covid-19) 30\n",
      "civil service 30\n",
      "national archives – 29\n",
      "probation trust 29\n",
      "national health service (nhs) digital – 27\n",
      "health safety executive (hse) – 25\n"
     ]
    }
   ],
   "source": [
    " N = 20  # Return top 15 results (by count)\n",
    "\n",
    "P = T_ukgwa.get_phrases(min_count = 5, min_length = 2)  # Phrases occurring at least 20 times with at least 2 words in them\n",
    "P.sort(key=itemgetter(1), reverse=True)\n",
    "for p in P[:N]:\n",
    "    print(\" \".join(p[0]), p[1])\n",
    "    #print([x for x in T_ukgwa._filter(\"\",\"\",p[0])])"
   ]
  },
  {
   "cell_type": "markdown",
   "metadata": {
    "id": "B8mOYMUB7thf"
   },
   "source": [
    "There is no direct link between UKGWA and the Discovery API. The catalogue entries in Discovery do contain the URL but this is not surfaced through the API. We are therefore providing a data file to create this connection. The data file is not automatically updated and is unlikely to be frequently maintained, however, so more recent additions to the archive will not be reflected.\n",
    "\n",
    "The file is held in the Github repository and can be loaded through a library function. We now see that the fifth field in the data has been populated with a catalogue entry. This is the case for most but not all of the entries in the A-Z index."
   ]
  },
  {
   "cell_type": "code",
   "execution_count": 21,
   "metadata": {
    "colab": {
     "base_uri": "https://localhost:8080/"
    },
    "id": "HPAWZ3Kh7cHR",
    "outputId": "d59171c8-2f3b-4fd1-ae65-7b3e23b66268"
   },
   "outputs": [
    {
     "name": "stdout",
     "output_type": "stream",
     "text": [
      "['UKGWA.1', 'A sample campaign – Just another GOV.UK campaigns site', 'ukgwa', https://webarchive.nationalarchives.gov.uk/ukgwa/*/https://sample.campaign.gov.uk/, 'GUK 207']\n"
     ]
    }
   ],
   "source": [
    "W.discoveryfromfile(data_folder + 'ukgwa_catrefs.txt')\n",
    "for w in W:\n",
    "    l = W.lookup(w)\n",
    "    if l[-1] != 'N':\n",
    "        print(l)\n",
    "        break\n",
    "        \n",
    "ukgwa_disco_lookup = {}\n",
    "for w in W:\n",
    "    ukgwa_disco_lookup[W.get_field(w, 'CATREF')] = w\n",
    "    #if W.get_field(w,'CATREF')[0:3] == 'BIS':\n",
    "    #    print(W.lookup(w))"
   ]
  },
  {
   "cell_type": "code",
   "execution_count": 22,
   "metadata": {
    "colab": {
     "base_uri": "https://localhost:8080/"
    },
    "id": "4uo93L2xCVvQ",
    "outputId": "b5d0f9f2-8eae-47a4-b0e6-be5871b1375f"
   },
   "outputs": [
    {
     "name": "stdout",
     "output_type": "stream",
     "text": [
      "C13497801\n",
      "https://webarchive.nationalarchives.gov.uk/ukgwa/*/https://www.jhci.org.uk/\n",
      "Joint Health Claims Initiative\n",
      "01/01/2013\n",
      "['C10136 Official publications']\n",
      "The Joint Health Claims Initiative (JHCI) was launched in December 2000 as the UK body, made up of representatives of the food industry, consumer interest groups and enforcement authorities, which aimed to provide voluntary advice on the truthfulness of health claims for foods. It closed in March 2007. (Please Note: these snapshots were retrospectively taken in 2013 of this website which dates from 2007).\n",
      "\n",
      "C12740406\n",
      "https://webarchive.nationalarchives.gov.uk/ukgwa/*/https://indicators.ic.nhs.uk/webview/\n",
      "National Health Service Information Centre (NHSIC) Indicator Portal\n",
      "01/01/2011\n",
      "['C10070 National Health Service', 'C10136 Official publications']\n",
      "The NHS IC (Information Centre) Indicator Portal gathers together a number of health and social care indicators. The NHS Information Centre is England’s national source of health and social care information and works with a wide range of health and social care providers nationwide to provide the facts and figures that help the NHS and social services run effectively.\n",
      "\n",
      "C16923\n",
      "https://webarchive.nationalarchives.gov.uk/ukgwa/*/https://www.hgc.gov.uk/\n",
      "Human Genetics Commission (HGC)\n",
      "01/01/2000\n",
      "['C10136 Official publications']\n",
      "The Human Genetics Commission (HGC) is the UK Government's advisory body on new developments in human genetics and how they impact on individual lives. The HGC gives the Government advice on human genetics with a particular focus on the social, ethical and legal issues. One of its key roles is to promote debate and to listen to what the public and its stakeholders have to say.\n",
      "\n",
      "C13497803\n",
      "https://webarchive.nationalarchives.gov.uk/ukgwa/*/https://www.professionalstandards.org.uk/\n",
      "Professional Standards Authority for Health and Social Care\n",
      "01/01/2013\n",
      "['C10136 Official publications']\n",
      "The Professional Standards Authority for Health and Social Care oversees statutory bodies that regulate health and social care professionals in the UK. The Authority assesses their performance, conducts audits, scrutinises their decisions and reports to Parliament. The Authority also sets standards for organisations holding voluntary registers for health and social care occupations and accredit those that meet them. The Authority was previously known as the Council for Healthcare Regulatory Excellence (CHRE).\n",
      "\n",
      "C14465603\n",
      "https://webarchive.nationalarchives.gov.uk/ukgwa/*/https://www.cerrie.org/\n",
      "Committee Examining Radiation Risks of Internal Emitters (CERRIE)\n",
      "01/01/2014\n",
      "['C10136 Official publications']\n",
      "The Committee Examining Radiation Risks of Internal Emitters (CERRIE) was an independent Committee established in 2001 following concerns about the risks of internal radiation. The Committee operated between October 2001 and October 2004. Although the Committee was set up and sponsored by two UK Government departments, DEFRA (Department for the Environment, Food and Rural Affairs) and DH (Department of Health), it operated completely independently of them. The snapshot/s in this series date from 2014 (captured retrospectively).\n",
      "\n"
     ]
    }
   ],
   "source": [
    "c = 0\n",
    "for idx in D:\n",
    "    admin = D.get_field(idx, \"adminHistory\")\n",
    "    if len(admin.split(\" \")) > 50:\n",
    "        ref = D.get_field(idx, \"reference\")\n",
    "        if ref in ukgwa_disco_lookup:\n",
    "            print(idx)\n",
    "            print(W.get_field(ukgwa_disco_lookup[ref], 'URL'))\n",
    "            print(W.get_field(ukgwa_disco_lookup[ref], 'TEXT'))\n",
    "            print(D.get_field(idx, 'startDate'))\n",
    "            print(D.get_field(idx, 'taxonomies'))\n",
    "            print(admin)\n",
    "            print(\"\")\n",
    "            c += 1\n",
    "        if c == 5:\n",
    "            break"
   ]
  },
  {
   "cell_type": "code",
   "execution_count": 23,
   "metadata": {},
   "outputs": [
    {
     "data": {
      "text/plain": [
       "dict_keys(['set up', '1 april', 'uk government', 'secretary state', 'executive agency', 'regional development', 'department education', 'east midlands', 'development agency', 'public sector', 'local government', 'england wales.', 'department health', 'higher education', 'east england', 'advisory non-departmental public body', 'funded department', 'northern ireland', 'advisory committee', 'legal services'])"
      ]
     },
     "execution_count": 23,
     "metadata": {},
     "output_type": "execute_result"
    }
   ],
   "source": [
    "top_admin_refs.keys()"
   ]
  },
  {
   "cell_type": "markdown",
   "metadata": {},
   "source": [
    "## Linking the datasets\n",
    "The following section joins together data from Discovery with the A-Z index. It begins by selecting from the list of top administrative history phrases. The records containing those phrases are then grouped together according to their department. Then these are linked to web sites via the data loaded above.\n",
    "\n",
    "The final output is a Sankey diagram which shows records with specific Administrative History phrases connected to phrases from the A-Z index, with the connection made by the catalogue's Department Code."
   ]
  },
  {
   "cell_type": "markdown",
   "metadata": {},
   "source": [
    "First we create an index of which A-Z entries contain which common phrases"
   ]
  },
  {
   "cell_type": "code",
   "execution_count": 24,
   "metadata": {},
   "outputs": [],
   "source": [
    "P = T_ukgwa.get_phrases(min_count = 3, min_length = 2)\n",
    "phrase_index = {}\n",
    "for p in P:\n",
    "    phrase = \" \".join(p[0])\n",
    "    matches = T_ukgwa.index.search_tokens(p[0])\n",
    "    for m in matches:\n",
    "        if m in phrase_index:\n",
    "            phrase_index[m].append(phrase)\n",
    "        else:\n",
    "            phrase_index[m] = [phrase]"
   ]
  },
  {
   "cell_type": "markdown",
   "metadata": {},
   "source": [
    "Next we find entries in the Adminstrative History which contain selected phrases."
   ]
  },
  {
   "cell_type": "code",
   "execution_count": 69,
   "metadata": {},
   "outputs": [],
   "source": [
    "phrases = ['regional development','east midlands','development agency']\n",
    "admin_phrase_entries = {}\n",
    "for p in phrases:\n",
    "    matches = T_Admin.index.search_tokens(p.split(\" \"))\n",
    "    admin_phrase_entries[p] = matches"
   ]
  },
  {
   "cell_type": "markdown",
   "metadata": {},
   "source": [
    "From that index, we find the catalogue references and also lookup the UKGWA identifier using the spreadsheet data.  A dictionary which maps items in the Sankey diagram to each other is initiated."
   ]
  },
  {
   "cell_type": "code",
   "execution_count": 109,
   "metadata": {},
   "outputs": [
    {
     "name": "stdout",
     "output_type": "stream",
     "text": [
      "regional development\n",
      "east midlands\n",
      "development agency\n"
     ]
    }
   ],
   "source": [
    "sankey_map = {}\n",
    "ukgwa_idx_list = []\n",
    "for ph, keys in admin_phrase_entries.items():\n",
    "    print(ph)\n",
    "    sankey_map[ph] = {}\n",
    "    for k in keys:\n",
    "        catref = D.get_field(k, 'reference')\n",
    "        dept_code = catref.split(\" \")[0]\n",
    "        if dept_code in sankey_map[ph]:\n",
    "            sankey_map[ph][dept_code] += 1\n",
    "        else:\n",
    "            sankey_map[ph][dept_code] = 1\n",
    "        if catref in ukgwa_disco_lookup:\n",
    "            ukgwa_idx = ukgwa_disco_lookup[catref]\n",
    "        else:\n",
    "            ukgwa_idx = None\n",
    "        #if dept_code not in sankey_map:\n",
    "        #    sankey_map[dept_code] = {}\n",
    "        if ukgwa_idx is not None:\n",
    "            #if ukgwa_idx in sankey_map[dept_code]:\n",
    "            #    sankey_map[dept_code][ukgwa_idx] += 1\n",
    "            #else:\n",
    "            #    sankey_map[dept_code][ukgwa_idx] = 1\n",
    "                ukgwa_idx_list.append(ukgwa_idx)"
   ]
  },
  {
   "cell_type": "markdown",
   "metadata": {},
   "source": [
    "Finally we add the A-Z common phrases into the map"
   ]
  },
  {
   "cell_type": "code",
   "execution_count": 110,
   "metadata": {},
   "outputs": [],
   "source": [
    "for idx in ukgwa_idx_list:\n",
    "    if idx in phrase_index:\n",
    "        #sankey_map[idx] = {}\n",
    "        dept = W.get_field(idx, 'CATREF').split(\" \")[0]\n",
    "        if dept not in sankey_map:\n",
    "            sankey_map[dept] = {}\n",
    "        for ph in phrase_index[idx]:\n",
    "            ph_label = ph + \".\"\n",
    "            if ph_label in sankey_map[dept]:\n",
    "                sankey_map[dept][ph_label] += 1\n",
    "            else:\n",
    "                sankey_map[dept][ph_label] = 1"
   ]
  },
  {
   "cell_type": "markdown",
   "metadata": {},
   "source": [
    "The map is then converted into the source, target, and values lists which the Sankey diagram function expects as parameters.\n",
    "In the case of departments which do not link to UKGWA sites, a default phrase of 'other' is linked to instead. This is mainly due to layout issues with the Sankey diagram if a middle node does not link outwards."
   ]
  },
  {
   "cell_type": "code",
   "execution_count": 121,
   "metadata": {},
   "outputs": [],
   "source": [
    "label_idx = {'other':0}\n",
    "sankey_labels = ['other']\n",
    "sankey_source = []\n",
    "sankey_target = []\n",
    "sankey_values = []\n",
    "sankey_x = []\n",
    "\n",
    "node_list = [[k,0] for k in admin_phrase_entries.keys()]\n",
    "while len(node_list) > 0:\n",
    "    default = False\n",
    "    this_node = node_list.pop(0)\n",
    "    node = this_node[0]\n",
    "    level = this_node[1]\n",
    "    if node not in sankey_map:\n",
    "        if level == 1:\n",
    "            target_id = label_idx['other']\n",
    "            sankey_source.append(label_idx[node])\n",
    "            sankey_target.append(label_idx['other'])\n",
    "            sankey_values.append(1)\n",
    "        continue\n",
    "    if node not in label_idx:\n",
    "        label_idx[node] = len(label_idx)\n",
    "        sankey_labels.append(node)\n",
    "    node_id = label_idx[node]\n",
    "\n",
    "    if len(sankey_map[node]) == 0:\n",
    "        target_id = label_idx['other']\n",
    "        sankey_source.append(node_id)\n",
    "        sankey_target.append(target_id)\n",
    "        sankey_values.append(1)\n",
    "    for target, value in sankey_map[node].items():\n",
    "        if target not in label_idx:\n",
    "            label_idx[target] = len(label_idx)\n",
    "            sankey_labels.append(target)\n",
    "            if target in sankey_map and isinstance(sankey_map,int):\n",
    "                pass\n",
    "            else:\n",
    "                node_list.append([target, level+1])\n",
    "        target_id = label_idx[target]\n",
    "        sankey_source.append(node_id)\n",
    "        sankey_target.append(target_id)\n",
    "        sankey_values.append(value)"
   ]
  },
  {
   "cell_type": "markdown",
   "metadata": {},
   "source": [
    "The next code block draws the diagram which is interactive (hover the mouse over the blue rectangles to highlight in and out flows) Here we see how all three terms appear in the descriptions of records from BIS, CLG and NK. On the right we have a list of which sites belong to each department."
   ]
  },
  {
   "cell_type": "code",
   "execution_count": 120,
   "metadata": {},
   "outputs": [
    {
     "data": {
      "application/vnd.plotly.v1+json": {
       "config": {
        "plotlyServerURL": "https://plot.ly"
       },
       "data": [
        {
         "arrangement": "snap",
         "link": {
          "source": [
           1,
           1,
           1,
           1,
           1,
           7,
           7,
           7,
           8,
           8,
           8,
           8,
           8,
           8,
           8,
           8,
           8,
           8,
           8,
           8,
           2,
           2,
           2,
           2,
           3,
           3,
           3,
           3,
           3,
           3,
           4,
           4,
           4,
           4,
           4,
           4,
           4,
           4,
           4,
           4,
           4,
           5,
           6,
           9,
           10,
           11,
           12,
           13,
           14,
           15,
           16
          ],
          "target": [
           2,
           3,
           4,
           5,
           6,
           4,
           3,
           2,
           2,
           3,
           9,
           10,
           11,
           12,
           4,
           13,
           6,
           14,
           15,
           16,
           17,
           18,
           19,
           20,
           21,
           20,
           17,
           22,
           23,
           24,
           25,
           26,
           18,
           23,
           27,
           20,
           17,
           28,
           24,
           22,
           19,
           0,
           24,
           0,
           29,
           0,
           30,
           29,
           0,
           0,
           0
          ],
          "value": [
           4,
           11,
           7,
           1,
           3,
           3,
           9,
           1,
           4,
           9,
           1,
           3,
           1,
           1,
           4,
           1,
           4,
           1,
           1,
           1,
           4,
           2,
           2,
           2,
           4,
           12,
           4,
           1,
           1,
           1,
           8,
           6,
           1,
           1,
           1,
           6,
           1,
           3,
           3,
           4,
           3,
           1,
           1,
           1,
           1,
           1,
           1,
           1,
           1,
           1,
           1
          ]
         },
         "node": {
          "color": "blue",
          "label": [
           "other",
           "regional development",
           "NK",
           "BIS",
           "CLG",
           "CA",
           "SR",
           "east midlands",
           "development agency",
           "PF",
           "RH",
           "OD",
           "AT",
           "PB",
           "KM",
           "LSIS",
           "JA",
           "south west.",
           "west midlands.",
           "england regional.",
           "east midlands.",
           "european regional development fund.",
           "east england.",
           "north east.",
           "south east.",
           "regional assembly.",
           "midlands regional.",
           "yorkshire humber.",
           "south east england.",
           "department education (dfe) –.",
           "local government."
          ],
          "line": {
           "color": "black",
           "width": 0.5
          },
          "pad": 15,
          "thickness": 20
         },
         "type": "sankey"
        }
       ],
       "layout": {
        "autosize": false,
        "font": {
         "color": "black",
         "size": 14
        },
        "height": 800,
        "margin": {
         "b": 20,
         "l": 10,
         "pad": 4,
         "r": 10,
         "t": 20
        },
        "template": {
         "data": {
          "bar": [
           {
            "error_x": {
             "color": "#2a3f5f"
            },
            "error_y": {
             "color": "#2a3f5f"
            },
            "marker": {
             "line": {
              "color": "#E5ECF6",
              "width": 0.5
             },
             "pattern": {
              "fillmode": "overlay",
              "size": 10,
              "solidity": 0.2
             }
            },
            "type": "bar"
           }
          ],
          "barpolar": [
           {
            "marker": {
             "line": {
              "color": "#E5ECF6",
              "width": 0.5
             },
             "pattern": {
              "fillmode": "overlay",
              "size": 10,
              "solidity": 0.2
             }
            },
            "type": "barpolar"
           }
          ],
          "carpet": [
           {
            "aaxis": {
             "endlinecolor": "#2a3f5f",
             "gridcolor": "white",
             "linecolor": "white",
             "minorgridcolor": "white",
             "startlinecolor": "#2a3f5f"
            },
            "baxis": {
             "endlinecolor": "#2a3f5f",
             "gridcolor": "white",
             "linecolor": "white",
             "minorgridcolor": "white",
             "startlinecolor": "#2a3f5f"
            },
            "type": "carpet"
           }
          ],
          "choropleth": [
           {
            "colorbar": {
             "outlinewidth": 0,
             "ticks": ""
            },
            "type": "choropleth"
           }
          ],
          "contour": [
           {
            "colorbar": {
             "outlinewidth": 0,
             "ticks": ""
            },
            "colorscale": [
             [
              0,
              "#0d0887"
             ],
             [
              0.1111111111111111,
              "#46039f"
             ],
             [
              0.2222222222222222,
              "#7201a8"
             ],
             [
              0.3333333333333333,
              "#9c179e"
             ],
             [
              0.4444444444444444,
              "#bd3786"
             ],
             [
              0.5555555555555556,
              "#d8576b"
             ],
             [
              0.6666666666666666,
              "#ed7953"
             ],
             [
              0.7777777777777778,
              "#fb9f3a"
             ],
             [
              0.8888888888888888,
              "#fdca26"
             ],
             [
              1,
              "#f0f921"
             ]
            ],
            "type": "contour"
           }
          ],
          "contourcarpet": [
           {
            "colorbar": {
             "outlinewidth": 0,
             "ticks": ""
            },
            "type": "contourcarpet"
           }
          ],
          "heatmap": [
           {
            "colorbar": {
             "outlinewidth": 0,
             "ticks": ""
            },
            "colorscale": [
             [
              0,
              "#0d0887"
             ],
             [
              0.1111111111111111,
              "#46039f"
             ],
             [
              0.2222222222222222,
              "#7201a8"
             ],
             [
              0.3333333333333333,
              "#9c179e"
             ],
             [
              0.4444444444444444,
              "#bd3786"
             ],
             [
              0.5555555555555556,
              "#d8576b"
             ],
             [
              0.6666666666666666,
              "#ed7953"
             ],
             [
              0.7777777777777778,
              "#fb9f3a"
             ],
             [
              0.8888888888888888,
              "#fdca26"
             ],
             [
              1,
              "#f0f921"
             ]
            ],
            "type": "heatmap"
           }
          ],
          "heatmapgl": [
           {
            "colorbar": {
             "outlinewidth": 0,
             "ticks": ""
            },
            "colorscale": [
             [
              0,
              "#0d0887"
             ],
             [
              0.1111111111111111,
              "#46039f"
             ],
             [
              0.2222222222222222,
              "#7201a8"
             ],
             [
              0.3333333333333333,
              "#9c179e"
             ],
             [
              0.4444444444444444,
              "#bd3786"
             ],
             [
              0.5555555555555556,
              "#d8576b"
             ],
             [
              0.6666666666666666,
              "#ed7953"
             ],
             [
              0.7777777777777778,
              "#fb9f3a"
             ],
             [
              0.8888888888888888,
              "#fdca26"
             ],
             [
              1,
              "#f0f921"
             ]
            ],
            "type": "heatmapgl"
           }
          ],
          "histogram": [
           {
            "marker": {
             "pattern": {
              "fillmode": "overlay",
              "size": 10,
              "solidity": 0.2
             }
            },
            "type": "histogram"
           }
          ],
          "histogram2d": [
           {
            "colorbar": {
             "outlinewidth": 0,
             "ticks": ""
            },
            "colorscale": [
             [
              0,
              "#0d0887"
             ],
             [
              0.1111111111111111,
              "#46039f"
             ],
             [
              0.2222222222222222,
              "#7201a8"
             ],
             [
              0.3333333333333333,
              "#9c179e"
             ],
             [
              0.4444444444444444,
              "#bd3786"
             ],
             [
              0.5555555555555556,
              "#d8576b"
             ],
             [
              0.6666666666666666,
              "#ed7953"
             ],
             [
              0.7777777777777778,
              "#fb9f3a"
             ],
             [
              0.8888888888888888,
              "#fdca26"
             ],
             [
              1,
              "#f0f921"
             ]
            ],
            "type": "histogram2d"
           }
          ],
          "histogram2dcontour": [
           {
            "colorbar": {
             "outlinewidth": 0,
             "ticks": ""
            },
            "colorscale": [
             [
              0,
              "#0d0887"
             ],
             [
              0.1111111111111111,
              "#46039f"
             ],
             [
              0.2222222222222222,
              "#7201a8"
             ],
             [
              0.3333333333333333,
              "#9c179e"
             ],
             [
              0.4444444444444444,
              "#bd3786"
             ],
             [
              0.5555555555555556,
              "#d8576b"
             ],
             [
              0.6666666666666666,
              "#ed7953"
             ],
             [
              0.7777777777777778,
              "#fb9f3a"
             ],
             [
              0.8888888888888888,
              "#fdca26"
             ],
             [
              1,
              "#f0f921"
             ]
            ],
            "type": "histogram2dcontour"
           }
          ],
          "mesh3d": [
           {
            "colorbar": {
             "outlinewidth": 0,
             "ticks": ""
            },
            "type": "mesh3d"
           }
          ],
          "parcoords": [
           {
            "line": {
             "colorbar": {
              "outlinewidth": 0,
              "ticks": ""
             }
            },
            "type": "parcoords"
           }
          ],
          "pie": [
           {
            "automargin": true,
            "type": "pie"
           }
          ],
          "scatter": [
           {
            "marker": {
             "colorbar": {
              "outlinewidth": 0,
              "ticks": ""
             }
            },
            "type": "scatter"
           }
          ],
          "scatter3d": [
           {
            "line": {
             "colorbar": {
              "outlinewidth": 0,
              "ticks": ""
             }
            },
            "marker": {
             "colorbar": {
              "outlinewidth": 0,
              "ticks": ""
             }
            },
            "type": "scatter3d"
           }
          ],
          "scattercarpet": [
           {
            "marker": {
             "colorbar": {
              "outlinewidth": 0,
              "ticks": ""
             }
            },
            "type": "scattercarpet"
           }
          ],
          "scattergeo": [
           {
            "marker": {
             "colorbar": {
              "outlinewidth": 0,
              "ticks": ""
             }
            },
            "type": "scattergeo"
           }
          ],
          "scattergl": [
           {
            "marker": {
             "colorbar": {
              "outlinewidth": 0,
              "ticks": ""
             }
            },
            "type": "scattergl"
           }
          ],
          "scattermapbox": [
           {
            "marker": {
             "colorbar": {
              "outlinewidth": 0,
              "ticks": ""
             }
            },
            "type": "scattermapbox"
           }
          ],
          "scatterpolar": [
           {
            "marker": {
             "colorbar": {
              "outlinewidth": 0,
              "ticks": ""
             }
            },
            "type": "scatterpolar"
           }
          ],
          "scatterpolargl": [
           {
            "marker": {
             "colorbar": {
              "outlinewidth": 0,
              "ticks": ""
             }
            },
            "type": "scatterpolargl"
           }
          ],
          "scatterternary": [
           {
            "marker": {
             "colorbar": {
              "outlinewidth": 0,
              "ticks": ""
             }
            },
            "type": "scatterternary"
           }
          ],
          "surface": [
           {
            "colorbar": {
             "outlinewidth": 0,
             "ticks": ""
            },
            "colorscale": [
             [
              0,
              "#0d0887"
             ],
             [
              0.1111111111111111,
              "#46039f"
             ],
             [
              0.2222222222222222,
              "#7201a8"
             ],
             [
              0.3333333333333333,
              "#9c179e"
             ],
             [
              0.4444444444444444,
              "#bd3786"
             ],
             [
              0.5555555555555556,
              "#d8576b"
             ],
             [
              0.6666666666666666,
              "#ed7953"
             ],
             [
              0.7777777777777778,
              "#fb9f3a"
             ],
             [
              0.8888888888888888,
              "#fdca26"
             ],
             [
              1,
              "#f0f921"
             ]
            ],
            "type": "surface"
           }
          ],
          "table": [
           {
            "cells": {
             "fill": {
              "color": "#EBF0F8"
             },
             "line": {
              "color": "white"
             }
            },
            "header": {
             "fill": {
              "color": "#C8D4E3"
             },
             "line": {
              "color": "white"
             }
            },
            "type": "table"
           }
          ]
         },
         "layout": {
          "annotationdefaults": {
           "arrowcolor": "#2a3f5f",
           "arrowhead": 0,
           "arrowwidth": 1
          },
          "autotypenumbers": "strict",
          "coloraxis": {
           "colorbar": {
            "outlinewidth": 0,
            "ticks": ""
           }
          },
          "colorscale": {
           "diverging": [
            [
             0,
             "#8e0152"
            ],
            [
             0.1,
             "#c51b7d"
            ],
            [
             0.2,
             "#de77ae"
            ],
            [
             0.3,
             "#f1b6da"
            ],
            [
             0.4,
             "#fde0ef"
            ],
            [
             0.5,
             "#f7f7f7"
            ],
            [
             0.6,
             "#e6f5d0"
            ],
            [
             0.7,
             "#b8e186"
            ],
            [
             0.8,
             "#7fbc41"
            ],
            [
             0.9,
             "#4d9221"
            ],
            [
             1,
             "#276419"
            ]
           ],
           "sequential": [
            [
             0,
             "#0d0887"
            ],
            [
             0.1111111111111111,
             "#46039f"
            ],
            [
             0.2222222222222222,
             "#7201a8"
            ],
            [
             0.3333333333333333,
             "#9c179e"
            ],
            [
             0.4444444444444444,
             "#bd3786"
            ],
            [
             0.5555555555555556,
             "#d8576b"
            ],
            [
             0.6666666666666666,
             "#ed7953"
            ],
            [
             0.7777777777777778,
             "#fb9f3a"
            ],
            [
             0.8888888888888888,
             "#fdca26"
            ],
            [
             1,
             "#f0f921"
            ]
           ],
           "sequentialminus": [
            [
             0,
             "#0d0887"
            ],
            [
             0.1111111111111111,
             "#46039f"
            ],
            [
             0.2222222222222222,
             "#7201a8"
            ],
            [
             0.3333333333333333,
             "#9c179e"
            ],
            [
             0.4444444444444444,
             "#bd3786"
            ],
            [
             0.5555555555555556,
             "#d8576b"
            ],
            [
             0.6666666666666666,
             "#ed7953"
            ],
            [
             0.7777777777777778,
             "#fb9f3a"
            ],
            [
             0.8888888888888888,
             "#fdca26"
            ],
            [
             1,
             "#f0f921"
            ]
           ]
          },
          "colorway": [
           "#636efa",
           "#EF553B",
           "#00cc96",
           "#ab63fa",
           "#FFA15A",
           "#19d3f3",
           "#FF6692",
           "#B6E880",
           "#FF97FF",
           "#FECB52"
          ],
          "font": {
           "color": "#2a3f5f"
          },
          "geo": {
           "bgcolor": "white",
           "lakecolor": "white",
           "landcolor": "#E5ECF6",
           "showlakes": true,
           "showland": true,
           "subunitcolor": "white"
          },
          "hoverlabel": {
           "align": "left"
          },
          "hovermode": "closest",
          "mapbox": {
           "style": "light"
          },
          "paper_bgcolor": "white",
          "plot_bgcolor": "#E5ECF6",
          "polar": {
           "angularaxis": {
            "gridcolor": "white",
            "linecolor": "white",
            "ticks": ""
           },
           "bgcolor": "#E5ECF6",
           "radialaxis": {
            "gridcolor": "white",
            "linecolor": "white",
            "ticks": ""
           }
          },
          "scene": {
           "xaxis": {
            "backgroundcolor": "#E5ECF6",
            "gridcolor": "white",
            "gridwidth": 2,
            "linecolor": "white",
            "showbackground": true,
            "ticks": "",
            "zerolinecolor": "white"
           },
           "yaxis": {
            "backgroundcolor": "#E5ECF6",
            "gridcolor": "white",
            "gridwidth": 2,
            "linecolor": "white",
            "showbackground": true,
            "ticks": "",
            "zerolinecolor": "white"
           },
           "zaxis": {
            "backgroundcolor": "#E5ECF6",
            "gridcolor": "white",
            "gridwidth": 2,
            "linecolor": "white",
            "showbackground": true,
            "ticks": "",
            "zerolinecolor": "white"
           }
          },
          "shapedefaults": {
           "line": {
            "color": "#2a3f5f"
           }
          },
          "ternary": {
           "aaxis": {
            "gridcolor": "white",
            "linecolor": "white",
            "ticks": ""
           },
           "baxis": {
            "gridcolor": "white",
            "linecolor": "white",
            "ticks": ""
           },
           "bgcolor": "#E5ECF6",
           "caxis": {
            "gridcolor": "white",
            "linecolor": "white",
            "ticks": ""
           }
          },
          "title": {
           "x": 0.05
          },
          "xaxis": {
           "automargin": true,
           "gridcolor": "white",
           "linecolor": "white",
           "ticks": "",
           "title": {
            "standoff": 15
           },
           "zerolinecolor": "white",
           "zerolinewidth": 2
          },
          "yaxis": {
           "automargin": true,
           "gridcolor": "white",
           "linecolor": "white",
           "ticks": "",
           "title": {
            "standoff": 15
           },
           "zerolinecolor": "white",
           "zerolinewidth": 2
          }
         }
        },
        "title": {
         "text": ""
        },
        "width": 1000
       }
      },
      "text/html": [
       "<div>                            <div id=\"f0a3940a-5819-4741-838b-ae9b434c6841\" class=\"plotly-graph-div\" style=\"height:800px; width:1000px;\"></div>            <script type=\"text/javascript\">                require([\"plotly\"], function(Plotly) {                    window.PLOTLYENV=window.PLOTLYENV || {};                                    if (document.getElementById(\"f0a3940a-5819-4741-838b-ae9b434c6841\")) {                    Plotly.newPlot(                        \"f0a3940a-5819-4741-838b-ae9b434c6841\",                        [{\"arrangement\":\"snap\",\"link\":{\"source\":[1,1,1,1,1,7,7,7,8,8,8,8,8,8,8,8,8,8,8,8,2,2,2,2,3,3,3,3,3,3,4,4,4,4,4,4,4,4,4,4,4,5,6,9,10,11,12,13,14,15,16],\"target\":[2,3,4,5,6,4,3,2,2,3,9,10,11,12,4,13,6,14,15,16,17,18,19,20,21,20,17,22,23,24,25,26,18,23,27,20,17,28,24,22,19,0,24,0,29,0,30,29,0,0,0],\"value\":[4,11,7,1,3,3,9,1,4,9,1,3,1,1,4,1,4,1,1,1,4,2,2,2,4,12,4,1,1,1,8,6,1,1,1,6,1,3,3,4,3,1,1,1,1,1,1,1,1,1,1]},\"node\":{\"color\":\"blue\",\"label\":[\"other\",\"regional development\",\"NK\",\"BIS\",\"CLG\",\"CA\",\"SR\",\"east midlands\",\"development agency\",\"PF\",\"RH\",\"OD\",\"AT\",\"PB\",\"KM\",\"LSIS\",\"JA\",\"south west.\",\"west midlands.\",\"england regional.\",\"east midlands.\",\"european regional development fund.\",\"east england.\",\"north east.\",\"south east.\",\"regional assembly.\",\"midlands regional.\",\"yorkshire humber.\",\"south east england.\",\"department education (dfe) \\u2013.\",\"local government.\"],\"line\":{\"color\":\"black\",\"width\":0.5},\"pad\":15,\"thickness\":20},\"type\":\"sankey\"}],                        {\"autosize\":false,\"font\":{\"color\":\"black\",\"size\":14},\"height\":800,\"margin\":{\"b\":20,\"l\":10,\"pad\":4,\"r\":10,\"t\":20},\"template\":{\"data\":{\"bar\":[{\"error_x\":{\"color\":\"#2a3f5f\"},\"error_y\":{\"color\":\"#2a3f5f\"},\"marker\":{\"line\":{\"color\":\"#E5ECF6\",\"width\":0.5},\"pattern\":{\"fillmode\":\"overlay\",\"size\":10,\"solidity\":0.2}},\"type\":\"bar\"}],\"barpolar\":[{\"marker\":{\"line\":{\"color\":\"#E5ECF6\",\"width\":0.5},\"pattern\":{\"fillmode\":\"overlay\",\"size\":10,\"solidity\":0.2}},\"type\":\"barpolar\"}],\"carpet\":[{\"aaxis\":{\"endlinecolor\":\"#2a3f5f\",\"gridcolor\":\"white\",\"linecolor\":\"white\",\"minorgridcolor\":\"white\",\"startlinecolor\":\"#2a3f5f\"},\"baxis\":{\"endlinecolor\":\"#2a3f5f\",\"gridcolor\":\"white\",\"linecolor\":\"white\",\"minorgridcolor\":\"white\",\"startlinecolor\":\"#2a3f5f\"},\"type\":\"carpet\"}],\"choropleth\":[{\"colorbar\":{\"outlinewidth\":0,\"ticks\":\"\"},\"type\":\"choropleth\"}],\"contour\":[{\"colorbar\":{\"outlinewidth\":0,\"ticks\":\"\"},\"colorscale\":[[0.0,\"#0d0887\"],[0.1111111111111111,\"#46039f\"],[0.2222222222222222,\"#7201a8\"],[0.3333333333333333,\"#9c179e\"],[0.4444444444444444,\"#bd3786\"],[0.5555555555555556,\"#d8576b\"],[0.6666666666666666,\"#ed7953\"],[0.7777777777777778,\"#fb9f3a\"],[0.8888888888888888,\"#fdca26\"],[1.0,\"#f0f921\"]],\"type\":\"contour\"}],\"contourcarpet\":[{\"colorbar\":{\"outlinewidth\":0,\"ticks\":\"\"},\"type\":\"contourcarpet\"}],\"heatmap\":[{\"colorbar\":{\"outlinewidth\":0,\"ticks\":\"\"},\"colorscale\":[[0.0,\"#0d0887\"],[0.1111111111111111,\"#46039f\"],[0.2222222222222222,\"#7201a8\"],[0.3333333333333333,\"#9c179e\"],[0.4444444444444444,\"#bd3786\"],[0.5555555555555556,\"#d8576b\"],[0.6666666666666666,\"#ed7953\"],[0.7777777777777778,\"#fb9f3a\"],[0.8888888888888888,\"#fdca26\"],[1.0,\"#f0f921\"]],\"type\":\"heatmap\"}],\"heatmapgl\":[{\"colorbar\":{\"outlinewidth\":0,\"ticks\":\"\"},\"colorscale\":[[0.0,\"#0d0887\"],[0.1111111111111111,\"#46039f\"],[0.2222222222222222,\"#7201a8\"],[0.3333333333333333,\"#9c179e\"],[0.4444444444444444,\"#bd3786\"],[0.5555555555555556,\"#d8576b\"],[0.6666666666666666,\"#ed7953\"],[0.7777777777777778,\"#fb9f3a\"],[0.8888888888888888,\"#fdca26\"],[1.0,\"#f0f921\"]],\"type\":\"heatmapgl\"}],\"histogram\":[{\"marker\":{\"pattern\":{\"fillmode\":\"overlay\",\"size\":10,\"solidity\":0.2}},\"type\":\"histogram\"}],\"histogram2d\":[{\"colorbar\":{\"outlinewidth\":0,\"ticks\":\"\"},\"colorscale\":[[0.0,\"#0d0887\"],[0.1111111111111111,\"#46039f\"],[0.2222222222222222,\"#7201a8\"],[0.3333333333333333,\"#9c179e\"],[0.4444444444444444,\"#bd3786\"],[0.5555555555555556,\"#d8576b\"],[0.6666666666666666,\"#ed7953\"],[0.7777777777777778,\"#fb9f3a\"],[0.8888888888888888,\"#fdca26\"],[1.0,\"#f0f921\"]],\"type\":\"histogram2d\"}],\"histogram2dcontour\":[{\"colorbar\":{\"outlinewidth\":0,\"ticks\":\"\"},\"colorscale\":[[0.0,\"#0d0887\"],[0.1111111111111111,\"#46039f\"],[0.2222222222222222,\"#7201a8\"],[0.3333333333333333,\"#9c179e\"],[0.4444444444444444,\"#bd3786\"],[0.5555555555555556,\"#d8576b\"],[0.6666666666666666,\"#ed7953\"],[0.7777777777777778,\"#fb9f3a\"],[0.8888888888888888,\"#fdca26\"],[1.0,\"#f0f921\"]],\"type\":\"histogram2dcontour\"}],\"mesh3d\":[{\"colorbar\":{\"outlinewidth\":0,\"ticks\":\"\"},\"type\":\"mesh3d\"}],\"parcoords\":[{\"line\":{\"colorbar\":{\"outlinewidth\":0,\"ticks\":\"\"}},\"type\":\"parcoords\"}],\"pie\":[{\"automargin\":true,\"type\":\"pie\"}],\"scatter\":[{\"marker\":{\"colorbar\":{\"outlinewidth\":0,\"ticks\":\"\"}},\"type\":\"scatter\"}],\"scatter3d\":[{\"line\":{\"colorbar\":{\"outlinewidth\":0,\"ticks\":\"\"}},\"marker\":{\"colorbar\":{\"outlinewidth\":0,\"ticks\":\"\"}},\"type\":\"scatter3d\"}],\"scattercarpet\":[{\"marker\":{\"colorbar\":{\"outlinewidth\":0,\"ticks\":\"\"}},\"type\":\"scattercarpet\"}],\"scattergeo\":[{\"marker\":{\"colorbar\":{\"outlinewidth\":0,\"ticks\":\"\"}},\"type\":\"scattergeo\"}],\"scattergl\":[{\"marker\":{\"colorbar\":{\"outlinewidth\":0,\"ticks\":\"\"}},\"type\":\"scattergl\"}],\"scattermapbox\":[{\"marker\":{\"colorbar\":{\"outlinewidth\":0,\"ticks\":\"\"}},\"type\":\"scattermapbox\"}],\"scatterpolar\":[{\"marker\":{\"colorbar\":{\"outlinewidth\":0,\"ticks\":\"\"}},\"type\":\"scatterpolar\"}],\"scatterpolargl\":[{\"marker\":{\"colorbar\":{\"outlinewidth\":0,\"ticks\":\"\"}},\"type\":\"scatterpolargl\"}],\"scatterternary\":[{\"marker\":{\"colorbar\":{\"outlinewidth\":0,\"ticks\":\"\"}},\"type\":\"scatterternary\"}],\"surface\":[{\"colorbar\":{\"outlinewidth\":0,\"ticks\":\"\"},\"colorscale\":[[0.0,\"#0d0887\"],[0.1111111111111111,\"#46039f\"],[0.2222222222222222,\"#7201a8\"],[0.3333333333333333,\"#9c179e\"],[0.4444444444444444,\"#bd3786\"],[0.5555555555555556,\"#d8576b\"],[0.6666666666666666,\"#ed7953\"],[0.7777777777777778,\"#fb9f3a\"],[0.8888888888888888,\"#fdca26\"],[1.0,\"#f0f921\"]],\"type\":\"surface\"}],\"table\":[{\"cells\":{\"fill\":{\"color\":\"#EBF0F8\"},\"line\":{\"color\":\"white\"}},\"header\":{\"fill\":{\"color\":\"#C8D4E3\"},\"line\":{\"color\":\"white\"}},\"type\":\"table\"}]},\"layout\":{\"annotationdefaults\":{\"arrowcolor\":\"#2a3f5f\",\"arrowhead\":0,\"arrowwidth\":1},\"autotypenumbers\":\"strict\",\"coloraxis\":{\"colorbar\":{\"outlinewidth\":0,\"ticks\":\"\"}},\"colorscale\":{\"diverging\":[[0,\"#8e0152\"],[0.1,\"#c51b7d\"],[0.2,\"#de77ae\"],[0.3,\"#f1b6da\"],[0.4,\"#fde0ef\"],[0.5,\"#f7f7f7\"],[0.6,\"#e6f5d0\"],[0.7,\"#b8e186\"],[0.8,\"#7fbc41\"],[0.9,\"#4d9221\"],[1,\"#276419\"]],\"sequential\":[[0.0,\"#0d0887\"],[0.1111111111111111,\"#46039f\"],[0.2222222222222222,\"#7201a8\"],[0.3333333333333333,\"#9c179e\"],[0.4444444444444444,\"#bd3786\"],[0.5555555555555556,\"#d8576b\"],[0.6666666666666666,\"#ed7953\"],[0.7777777777777778,\"#fb9f3a\"],[0.8888888888888888,\"#fdca26\"],[1.0,\"#f0f921\"]],\"sequentialminus\":[[0.0,\"#0d0887\"],[0.1111111111111111,\"#46039f\"],[0.2222222222222222,\"#7201a8\"],[0.3333333333333333,\"#9c179e\"],[0.4444444444444444,\"#bd3786\"],[0.5555555555555556,\"#d8576b\"],[0.6666666666666666,\"#ed7953\"],[0.7777777777777778,\"#fb9f3a\"],[0.8888888888888888,\"#fdca26\"],[1.0,\"#f0f921\"]]},\"colorway\":[\"#636efa\",\"#EF553B\",\"#00cc96\",\"#ab63fa\",\"#FFA15A\",\"#19d3f3\",\"#FF6692\",\"#B6E880\",\"#FF97FF\",\"#FECB52\"],\"font\":{\"color\":\"#2a3f5f\"},\"geo\":{\"bgcolor\":\"white\",\"lakecolor\":\"white\",\"landcolor\":\"#E5ECF6\",\"showlakes\":true,\"showland\":true,\"subunitcolor\":\"white\"},\"hoverlabel\":{\"align\":\"left\"},\"hovermode\":\"closest\",\"mapbox\":{\"style\":\"light\"},\"paper_bgcolor\":\"white\",\"plot_bgcolor\":\"#E5ECF6\",\"polar\":{\"angularaxis\":{\"gridcolor\":\"white\",\"linecolor\":\"white\",\"ticks\":\"\"},\"bgcolor\":\"#E5ECF6\",\"radialaxis\":{\"gridcolor\":\"white\",\"linecolor\":\"white\",\"ticks\":\"\"}},\"scene\":{\"xaxis\":{\"backgroundcolor\":\"#E5ECF6\",\"gridcolor\":\"white\",\"gridwidth\":2,\"linecolor\":\"white\",\"showbackground\":true,\"ticks\":\"\",\"zerolinecolor\":\"white\"},\"yaxis\":{\"backgroundcolor\":\"#E5ECF6\",\"gridcolor\":\"white\",\"gridwidth\":2,\"linecolor\":\"white\",\"showbackground\":true,\"ticks\":\"\",\"zerolinecolor\":\"white\"},\"zaxis\":{\"backgroundcolor\":\"#E5ECF6\",\"gridcolor\":\"white\",\"gridwidth\":2,\"linecolor\":\"white\",\"showbackground\":true,\"ticks\":\"\",\"zerolinecolor\":\"white\"}},\"shapedefaults\":{\"line\":{\"color\":\"#2a3f5f\"}},\"ternary\":{\"aaxis\":{\"gridcolor\":\"white\",\"linecolor\":\"white\",\"ticks\":\"\"},\"baxis\":{\"gridcolor\":\"white\",\"linecolor\":\"white\",\"ticks\":\"\"},\"bgcolor\":\"#E5ECF6\",\"caxis\":{\"gridcolor\":\"white\",\"linecolor\":\"white\",\"ticks\":\"\"}},\"title\":{\"x\":0.05},\"xaxis\":{\"automargin\":true,\"gridcolor\":\"white\",\"linecolor\":\"white\",\"ticks\":\"\",\"title\":{\"standoff\":15},\"zerolinecolor\":\"white\",\"zerolinewidth\":2},\"yaxis\":{\"automargin\":true,\"gridcolor\":\"white\",\"linecolor\":\"white\",\"ticks\":\"\",\"title\":{\"standoff\":15},\"zerolinecolor\":\"white\",\"zerolinewidth\":2}}},\"title\":{\"text\":\"\"},\"width\":1000},                        {\"responsive\": true}                    ).then(function(){\n",
       "                            \n",
       "var gd = document.getElementById('f0a3940a-5819-4741-838b-ae9b434c6841');\n",
       "var x = new MutationObserver(function (mutations, observer) {{\n",
       "        var display = window.getComputedStyle(gd).display;\n",
       "        if (!display || display === 'none') {{\n",
       "            console.log([gd, 'removed!']);\n",
       "            Plotly.purge(gd);\n",
       "            observer.disconnect();\n",
       "        }}\n",
       "}});\n",
       "\n",
       "// Listen for the removal of the full notebook cells\n",
       "var notebookContainer = gd.closest('#notebook-container');\n",
       "if (notebookContainer) {{\n",
       "    x.observe(notebookContainer, {childList: true});\n",
       "}}\n",
       "\n",
       "// Listen for the clearing of the current output cell\n",
       "var outputEl = gd.closest('.output');\n",
       "if (outputEl) {{\n",
       "    x.observe(outputEl, {childList: true});\n",
       "}}\n",
       "\n",
       "                        })                };                });            </script>        </div>"
      ]
     },
     "metadata": {},
     "output_type": "display_data"
    }
   ],
   "source": [
    "fig = go.Figure(data=[go.Sankey(\n",
    "    arrangement = \"snap\",\n",
    "    node = dict(\n",
    "      pad = 15,\n",
    "      thickness = 20,\n",
    "      line = dict(color = \"black\", width = 0.5),\n",
    "      label = sankey_labels,\n",
    "      #x = sankey_x,\n",
    "      color = \"blue\"\n",
    "    ),\n",
    "    link = dict(\n",
    "      source = sankey_source, # indices correspond to labels, eg A1, A2, A1, B1, ...\n",
    "      target = sankey_target,\n",
    "      value = sankey_values\n",
    "  ))])\n",
    "\n",
    "fig.update_layout(title_text=\"\", font_size=14, font_color='black',\n",
    "                  autosize=False,\n",
    "                  width=1000,\n",
    "                  height=800,\n",
    "                 margin=dict(\n",
    "                        l=10,\n",
    "                        r=10,\n",
    "                        b=20,\n",
    "                        t=20,\n",
    "                        pad=4\n",
    "                ))\n",
    "fig.show()\n"
   ]
  },
  {
   "cell_type": "code",
   "execution_count": 38,
   "metadata": {},
   "outputs": [],
   "source": [
    "fig.write_image('sankey.jpg', scale=3)"
   ]
  },
  {
   "cell_type": "code",
   "execution_count": 28,
   "metadata": {},
   "outputs": [
    {
     "name": "stdout",
     "output_type": "stream",
     "text": [
      "https://www.britishcouncil.org/ BW 220\n",
      "https://www.judiciary.gov.uk/related-offices-and-bodies/advisory-bodies/cjc/ MJ 27\n",
      "https://www.judiciary.uk/related-offices-and-bodies/advisory-bodies/cjc/ MJ 27\n",
      "https://www.dartmoor.gov.uk/ MAF 543\n",
      "https://www.contracts.mod.uk/ DEFE 218\n",
      "https://www.eis2win.co.uk/ PF 263\n",
      "https://tssplansregistry.highwaysengland.co.uk/login.asp HWA 3\n",
      "https://www.judiciary.uk/ MJ 18\n",
      "https://mrc.ukri.org/ FD 26\n",
      "https://beta.met.police.uk/ MEPO 42\n",
      "https://nihr.ahcs.ac.uk/ JA 756\n",
      "https://www.railwaymuseum.org.uk/ PF 69\n",
      "https://www.nmc.org.uk/ JA 274\n",
      "https://www.ons.gov.uk/ RG 84\n",
      "https://www.ordnancesurvey.co.uk/business-government/products/openspace/ OS 93\n",
      "https://www.rssb.co.uk/ AN 220\n",
      "https://shapeatlas.net/ JA 202\n",
      "https://www.visitbritain.com/gb/en PF 13\n"
     ]
    },
    {
     "data": {
      "image/png": "[encoded data removed]",
      "text/plain": [
       "<Figure size 1050x1400 with 1 Axes>"
      ]
     },
     "metadata": {},
     "output_type": "display_data"
    }
   ],
   "source": [
    "import networkx as nx\n",
    "\n",
    "url_index = {}\n",
    "for w in W:\n",
    "    url_index[W.get_field(w, 'URL').get_url(prefix=False,snapshot=False)] = W.get_field(w, 'CATREF')\n",
    "    \n",
    "cat_index = {}\n",
    "for d in D:\n",
    "    ref = D.get_field(d, 'reference').split(\"/\")[0]\n",
    "    cat_index[ref] = D.get_field(d, 'startDate')\n",
    "    \n",
    "c = 0\n",
    "G = nx.DiGraph()\n",
    "\n",
    "d_nodes = []\n",
    "for t in T:\n",
    "    if t in url_index:\n",
    "        if url_index[t] not in cat_index:\n",
    "            continue\n",
    "        if url_index[t] != 'N':\n",
    "            d_year = \"D_\" + cat_index[url_index[t]][-4:]\n",
    "            w_year = \"W_\" + str(T.get_field(t, 'MIN'))[0:4]\n",
    "            \n",
    "            if abs(int(cat_index[url_index[t]][-4:])-int(str(T.get_field(t, 'MIN'))[0:4])) > 10:\n",
    "                print(t, url_index[t])\n",
    "            if not G.has_node(d_year):\n",
    "                G.add_node(d_year, bipartite=0)\n",
    "                d_nodes.append(d_year)\n",
    "                if not G.has_node(d_year.replace(\"D\",\"W\")):\n",
    "                    G.add_node(d_year.replace(\"D\",\"W\"), bipartite=1)\n",
    "            if not G.has_node(w_year):\n",
    "                G.add_node(w_year, bipartite=1)\n",
    "                if not G.has_node(w_year.replace(\"W\",\"D\")):\n",
    "                    G.add_node(w_year.replace(\"W\",\"D\"), bipartite=0)\n",
    "            if G.has_edge(d_year, w_year):\n",
    "                G[d_year][w_year]['weight'] += 1\n",
    "            else:\n",
    "                G.add_edge(d_year, w_year, weight=1)\n",
    "            c += 1\n",
    "    #if c == 50:\n",
    "    #    break\n",
    "        \n",
    "from matplotlib import pyplot as plt\n",
    "l = {n for n, d in G.nodes(data=True) if d[\"bipartite\"] == 0}\n",
    "r = set(G) - l\n",
    "pos = {}\n",
    "\n",
    "w_degree = dict(G.degree(weight='weight'))\n",
    "import math\n",
    "# Update position for node from each group\n",
    "pos.update((node, (1, index)) for index, node in enumerate(sorted(l)))\n",
    "pos.update((node, (2, index)) for index, node in enumerate(sorted(r)))\n",
    "weights = [3*G[u][v]['weight']/w_degree[u] for u,v in G.edges]\n",
    "\n",
    "fig = plt.figure(1, figsize=(15, 20), dpi=70)\n",
    "nx.draw(G, pos=pos, node_size=2, with_labels=True, width=weights)\n",
    "plt.show()"
   ]
  }
 ],
 "metadata": {
  "colab": {
   "authorship_tag": "ABX9TyN4AOJ3ncgR9T2O2/LYru0Z",
   "collapsed_sections": [],
   "include_colab_link": true,
   "name": "Computational Access to UKGWA.ipynb",
   "provenance": [],
   "toc_visible": true
  },
  "kernelspec": {
   "display_name": "Python 3",
   "language": "python",
   "name": "python3"
  },
  "language_info": {
   "codemirror_mode": {
    "name": "ipython",
    "version": 3
   },
   "file_extension": ".py",
   "mimetype": "text/x-python",
   "name": "python",
   "nbconvert_exporter": "python",
   "pygments_lexer": "ipython3",
   "version": "3.6.9"
  }
 },
 "nbformat": 4,
 "nbformat_minor": 1
}
