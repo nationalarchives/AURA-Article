{
  "nbformat": 4,
  "nbformat_minor": 0,
  "metadata": {
    "colab": {
      "name": "Computational Access to UKGWA.ipynb",
      "provenance": [],
      "collapsed_sections": [],
      "toc_visible": true,
      "authorship_tag": "ABX9TyOu72y2oerkJuyYsFDJEEhp",
      "include_colab_link": true
    },
    "kernelspec": {
      "display_name": "Python 3",
      "name": "python3"
    }
  },
  "cells": [
    {
      "cell_type": "markdown",
      "metadata": {
        "id": "view-in-github",
        "colab_type": "text"
      },
      "source": [
        "<a href=\"https://colab.research.google.com/github/nationalarchives/UKGWA-computational-access/blob/main/Computational_Access_to_UKGWA.ipynb\" target=\"_parent\"><img src=\"https://colab.research.google.com/assets/colab-badge.svg\" alt=\"Open In Colab\"/></a>"
      ]
    },
    {
      "cell_type": "markdown",
      "metadata": {
        "id": "oWzsYl3oajdo"
      },
      "source": [
        "This notebook is associated with a paper submmitted to Archival Science. The notebook introduces sources of data for computational analysis of the UK Government Web Archive (UKGWA). The purpose of the notebook is not to demonstrate innovative data analysis methods, but rather to illustrate issues and considerations when accessing the collection as data.\n",
        "\n",
        "The notebooks consists of 3 sections:\n",
        "\n",
        "\n",
        "\n",
        "1.   Searching for UKGWA within Discovery\n",
        "2.   Using the CDX API\n",
        "3.   Using the A-Z Index\n",
        "\n"
      ]
    },
    {
      "cell_type": "markdown",
      "metadata": {
        "id": "u4rLGjTYsO4V"
      },
      "source": [
        "## Library imports and behind the scenes setup\n",
        "\n",
        "Click the run arrow to run several items at once."
      ]
    },
    {
      "cell_type": "code",
      "metadata": {
        "id": "mJKbS_8JgUNY"
      },
      "source": [
        "import sys\n",
        "import os\n",
        "import shutil\n",
        "from matplotlib import pyplot\n",
        "from matplotlib.pyplot import figure\n",
        "from operator import itemgetter\n",
        "import datetime\n",
        "# Function to convert snapshot timestamp to a date\n",
        "snap_to_date = lambda d : datetime.datetime.strptime(str(d), '%Y%m%d%H%M%S') # %I:%M%p')"
      ],
      "execution_count": null,
      "outputs": []
    },
    {
      "cell_type": "code",
      "metadata": {
        "colab": {
          "base_uri": "https://localhost:8080/"
        },
        "id": "Fq0MyR2bglrM",
        "outputId": "ff45afdc-1b43-47f6-b068-4475a6e36e68"
      },
      "source": [
        "if os.path.isdir('AURA-Article'):\n",
        "    shutil.rmtree('AURA-Article')\n",
        "!git clone https://github.com/mark-bell-tna/AURA-Article.git\n",
        "sys.path.insert(0, 'AURA-Article/Code')\n",
        "data_folder = \"./AURA-Article/Data/\""
      ],
      "execution_count": null,
      "outputs": [
        {
          "output_type": "stream",
          "text": [
            "Cloning into 'AURA-Article'...\n",
            "remote: Enumerating objects: 106, done.\u001b[K\n",
            "remote: Counting objects: 100% (106/106), done.\u001b[K\n",
            "remote: Compressing objects: 100% (72/72), done.\u001b[K\n",
            "remote: Total 106 (delta 43), reused 89 (delta 31), pack-reused 0\u001b[K\n",
            "Receiving objects: 100% (106/106), 14.94 MiB | 33.54 MiB/s, done.\n",
            "Resolving deltas: 100% (43/43), done.\n"
          ],
          "name": "stdout"
        }
      ]
    },
    {
      "cell_type": "code",
      "metadata": {
        "id": "B4LiPQ22hGQY"
      },
      "source": [
        "from disco_search import DiscoSearch\n",
        "from ukgwa_textindex import UKGWATextIndex\n",
        "from ukgwa_cdx_indexer import TemporalIndexer\n",
        "from ukgwa_index import UKGWAIndex"
      ],
      "execution_count": null,
      "outputs": []
    },
    {
      "cell_type": "markdown",
      "metadata": {
        "id": "Snsw5XoHsdEz"
      },
      "source": [
        "## Search for web archive entries in Discovery\n",
        "\n",
        "Discovery is the online catalogue of The National Archives, UK. For computational access there is an API (Application Programming Interface) which can be explored at this site: https://discovery.nationalarchives.gov.uk/API/sandbox/index\n",
        "\n",
        "There is no existing indicator in the catalogue for UKGWA sites but all of their descriptions include the words 'web' and 'snapshot(s)'. This is therefore a reliable method of finding UKGWA records, since these would be a rare combination in other contexts.\n",
        "\n",
        "To simplify the notebook, and because the API has the above sandbox environment for direct experimentation, we have built library code to perform the search. The first code block performs a search and stores the results in a DiscoSearch object called D. DiscoSearch objects are iterable so we can loop over the contents which will return all of the IAIDs of UKGWA records. The code stops after one loop so only shows the first record. The lookup method takes an IAID as an input and returns the data for that record which has been extracted through the API.\n",
        "To view a record in Discovery itself you can append the IAID to the following URL: https://discovery.nationalarchives.gov.uk/details/r/\n",
        "\n",
        "<b>Estimated time to run the cell: 30-40 seconds</b>"
      ]
    },
    {
      "cell_type": "code",
      "metadata": {
        "id": "4MettFsy4qnt",
        "colab": {
          "base_uri": "https://localhost:8080/"
        },
        "outputId": "be027a73-03c6-4122-96c6-8c7de71474ed"
      },
      "source": [
        "D = DiscoSearch()\n",
        "D.add_entry('web AND snapshots')\n",
        "for d in D:\n",
        "    print(\"IAID:\",d,\"Data:\",D.lookup(d))\n",
        "    break"
      ],
      "execution_count": null,
      "outputs": [
        {
          "output_type": "stream",
          "text": [
            "IAID: C14142439 Data: ['C14142439', 'Website: Final report, transcripts of hearings, submitted evidence, minutes of meetings, etc. (This snapshot taken on 01/11/2006). [Please Note: These digital records are presented via the UK Government Web Archive ].', '01/01/1998', '01/11/2006', '66/1/C163/0/C16577/0/0/C14142439', '', 'Inquiry into the management of care of children receiving complex heart surgery at the Bristol Royal Infirmary: records: Digital Records formerly in JA 4.', ['C10012 Children', 'C10115 Welfare'], 'JA 11/4']\n"
          ],
          "name": "stdout"
        }
      ]
    },
    {
      "cell_type": "markdown",
      "metadata": {
        "id": "9gBd8ERls4P5"
      },
      "source": [
        "The get_field method returns the value of a single field from the Data for a given IAID. Run this code block to see the available fields extracted from the API."
      ]
    },
    {
      "cell_type": "code",
      "metadata": {
        "colab": {
          "base_uri": "https://localhost:8080/"
        },
        "id": "1RfC4ppUgnck",
        "outputId": "ca93411e-e593-4faf-c735-1b16a510521a"
      },
      "source": [
        "D.fields.keys()"
      ],
      "execution_count": null,
      "outputs": [
        {
          "output_type": "execute_result",
          "data": {
            "text/plain": [
              "dict_keys(['id', 'description', 'startDate', 'endDate', 'urlParameters', 'adminHistory', 'context', 'taxonomies', 'reference'])"
            ]
          },
          "metadata": {
            "tags": []
          },
          "execution_count": 5
        }
      ]
    },
    {
      "cell_type": "markdown",
      "metadata": {
        "id": "itzw9NF2bFMn"
      },
      "source": [
        "We begin by counting websites by department and printing out the top 10 results. The Department of Health has by far the most sites reflecting the diverse nature of the NHS and its remit around public health messaging."
      ]
    },
    {
      "cell_type": "code",
      "metadata": {
        "id": "_rIXDvXxaoZK"
      },
      "source": [
        "departments = {}\n",
        "for idx in D:\n",
        "    dep = D.get_field(idx, \"reference\").split(\" \")[0]\n",
        "    if dep in departments:\n",
        "        departments[dep] += 1\n",
        "    else:\n",
        "        departments[dep] = 1\n",
        "\n",
        "top_deps = sorted([[k,v] for k,v in departments.items()], key=itemgetter(1), reverse=True))\n",
        "for d in top_deps[0:10]:\n",
        "    print(d[0], \"Sites:\", d[1])"
      ],
      "execution_count": null,
      "outputs": []
    },
    {
      "cell_type": "markdown",
      "metadata": {
        "id": "HTCZBnhIji6r"
      },
      "source": [
        "This code block extracts the startDate field, extracts the year (last 4 characters) and produces a summary counting records per year. Blank years and those earlier than 1996 (year the UKGWA started) are filtered out (very few are removed by this step but the chart is cleaner). The results are then visualised in a bar chart."
      ]
    },
    {
      "cell_type": "code",
      "metadata": {
        "colab": {
          "base_uri": "https://localhost:8080/",
          "height": 283
        },
        "id": "kkHn0aA6nvme",
        "outputId": "d34c1126-4082-4a82-81ee-4989efe14a07"
      },
      "source": [
        "years = {}\n",
        "for idx in D:\n",
        "    yr = D.get_field(idx, \"startDate\")[-4:]\n",
        "    if yr.isnumeric():\n",
        "        yr = int(yr)\n",
        "    else:\n",
        "        continue\n",
        "    if yr >= 1996:\n",
        "        if yr in years:\n",
        "            years[yr] += 1\n",
        "        else:\n",
        "            years[yr] = 1\n",
        "\n",
        "years, counts = zip(*sorted([[y,c] for y,c in years.items()], key=itemgetter(0), reverse=False))\n",
        "\n",
        "pyplot.bar(years,counts)"
      ],
      "execution_count": null,
      "outputs": [
        {
          "output_type": "execute_result",
          "data": {
            "text/plain": [
              "<BarContainer object of 24 artists>"
            ]
          },
          "metadata": {
            "tags": []
          },
          "execution_count": 6
        },
        {
          "output_type": "display_data",
          "data": {
            "image/png": "[encoded data removed]",
            "text/plain": [
              "<Figure size 432x288 with 1 Axes>"
            ]
          },
          "metadata": {
            "tags": [],
            "needs_background": "light"
          }
        }
      ]
    },
    {
      "cell_type": "markdown",
      "metadata": {
        "id": "CpyZHARutTdL"
      },
      "source": [
        "Catalogue records are usually assigned one or more taxonomy categories. Here we summarise the records by category and print out the top 10 (set value of N to print more) most common categories.\n",
        "\n"
      ]
    },
    {
      "cell_type": "code",
      "metadata": {
        "colab": {
          "base_uri": "https://localhost:8080/"
        },
        "id": "V7tLfmHav4IJ",
        "outputId": "935f4e15-f25f-4533-c08c-47ed645a70f3"
      },
      "source": [
        "N = 10  # Change this value to see more (or fewer) rows\n",
        "\n",
        "taxonomies = {}\n",
        "for idx in D:\n",
        "    tax = D.get_field(idx, \"taxonomies\")\n",
        "    for t in tax:\n",
        "        if t in taxonomies:\n",
        "            taxonomies[t] += 1\n",
        "        else:\n",
        "            taxonomies[t] = 1\n",
        "\n",
        "sorted_taxonomies = sorted([(k,v) for k,v in taxonomies.items()], key=itemgetter(1), reverse=True)\n",
        "for i in range(N):\n",
        "    print(sorted_taxonomies[i])"
      ],
      "execution_count": null,
      "outputs": [
        {
          "output_type": "stream",
          "text": [
            "('C10136 Official publications', 3843)\n",
            "('C10070 National Health Service', 172)\n",
            "('C10036 Farming', 86)\n",
            "('C10108 Trade and commerce', 75)\n",
            "('C10039 Food and drink', 74)\n",
            "('C10052 Labour', 58)\n",
            "('C10105 Sports', 56)\n",
            "('C10077 Pay and pensions', 52)\n",
            "('C10096 Research', 45)\n",
            "('C10043 Government finances', 45)\n"
          ],
          "name": "stdout"
        }
      ]
    },
    {
      "cell_type": "markdown",
      "metadata": {
        "id": "3m5iZQuotb7E"
      },
      "source": [
        "Create a searchable index of the text from record descriptions. There is no data cleaning step involved here so punctuation is not removed. However, stop words are removed - the list of included stop words is in the code and can be changed by adding words in quotes, with a comma between words.\n",
        "\n",
        "<b> Estimated run time: 30 seconds </b>"
      ]
    },
    {
      "cell_type": "code",
      "metadata": {
        "id": "gUTUSk1bhRCj"
      },
      "source": [
        "T_Desc = UKGWATextIndex(stop_words = [\"\", \"and\", \"of\", \"the\", \"in\", \"a\", \"by\", \"which\", \"their\",\"as\",\"an\",\n",
        "                                 \"for\",\"to\",\"if\",\"be\",\"this\",\"on\",\"are\",\"at\",\"were\",\"it\",\"is\",\"that\",\n",
        "                                 \"from\",\"been\",\"has\",\"have\",\"or\",\"there\",\"was\",\"they\",\"with\",\"these\"])\n",
        "\n",
        "for idx in D:\n",
        "    desc = D.get_field(idx, \"description\")\n",
        "    T_Desc.add_entry(idx, desc.split(\" \"))"
      ],
      "execution_count": null,
      "outputs": []
    },
    {
      "cell_type": "markdown",
      "metadata": {
        "id": "IEt3axmKjtOT"
      },
      "source": [
        "Get the most common N phrases from the text index. Again change the value of N to see more rows.\n",
        "The code prints out a phrase alongside a count of occurrences of that phrase in the descriptions.\n",
        "We see that the descriptions are generally formulaic, boilerplate, text explaining the archival process behind creating snapshots of web sites."
      ]
    },
    {
      "cell_type": "code",
      "metadata": {
        "colab": {
          "base_uri": "https://localhost:8080/"
        },
        "id": "pf12p-oZhp6-",
        "outputId": "9d1a57a8-949c-4adb-fba0-a2bac70bea04"
      },
      "source": [
        "N = 5  # Change this value to see more top phrases\n",
        "\n",
        "P = T_Desc.get_phrases(min_count = 20, min_length = 2)  # Phrases occurring at least 20 times with at least 2 words in them\n",
        "P.sort(key=itemgetter(1), reverse=True)\n",
        "for p in P[:N]:\n",
        "    print(\" \".join(p[0]), p[1])"
      ],
      "execution_count": null,
      "outputs": [
        {
          "output_type": "stream",
          "text": [
            "series contains dated gathered versions (or 'snapshots') 2830\n",
            "website. [please note: records may accessed via uk government web archive ]. 2673\n",
            "website. [please note: records may accessed via uk government web archive using links listed below (for general explanation parallel links, please see arrangement field)]: 488\n",
            "series contains links gathered versions (or 'snapshots') 435\n",
            "website. [please note: records may accessed via uk government web archive]. 306\n"
          ],
          "name": "stdout"
        }
      ]
    },
    {
      "cell_type": "markdown",
      "metadata": {
        "id": "Wczr_rPztkHQ"
      },
      "source": [
        "Repeat the indexing steps but this time using the the Administrative History of the records if they have one.\n",
        "\n",
        "<b>Estimated time to run: 35s</b>"
      ]
    },
    {
      "cell_type": "code",
      "metadata": {
        "id": "Kn6m90eJnBns"
      },
      "source": [
        "T_Admin = UKGWATextIndex(stop_words = [\"\", \"and\", \"of\", \"the\", \"in\", \"a\", \"by\", \"which\", \"their\",\"as\",\"an\",\n",
        "                                 \"for\",\"to\",\"if\",\"be\",\"this\",\"on\",\"are\",\"at\",\"were\",\"it\",\"is\",\"that\",\n",
        "                                 \"from\",\"been\",\"has\",\"have\",\"or\",\"there\",\"was\",\"they\",\"with\",\"these\"])\n",
        "\n",
        "for idx in D:\n",
        "    admin = D.get_field(idx, \"adminHistory\")\n",
        "    T_Admin.add_entry(idx, admin.split(\" \"))"
      ],
      "execution_count": null,
      "outputs": []
    },
    {
      "cell_type": "markdown",
      "metadata": {
        "id": "MsnmIGT6trW6"
      },
      "source": [
        "Print out the top N phrases. This time the phrases are more informative but the coverage is a lot less."
      ]
    },
    {
      "cell_type": "code",
      "metadata": {
        "colab": {
          "base_uri": "https://localhost:8080/"
        },
        "id": "txkTG8tsnHcO",
        "outputId": "f4376395-7724-454e-cae1-ff8994dbafa7"
      },
      "source": [
        "N = 20  # Change this value to see more phrases.\n",
        "\n",
        "P = T_Admin.get_phrases(min_count = 15, min_length = 2)  # Phrases occurring at least 15 times with at least 2 words in them\n",
        "P.sort(key=itemgetter(1), reverse=True)\n",
        "for p in P[:N]:\n",
        "    print(\" \".join(p[0]), p[1])"
      ],
      "execution_count": null,
      "outputs": [
        {
          "output_type": "stream",
          "text": [
            "set up 96\n",
            "1 april 77\n",
            "secretary state 62\n",
            "uk government 62\n",
            "executive agency 35\n",
            "regional development 34\n",
            "department education 34\n",
            "east midlands 31\n",
            "development agency 31\n",
            "public sector 31\n",
            "local government 30\n",
            "england wales. 30\n",
            "department health 30\n",
            "east england 29\n",
            "advisory non-departmental public body 28\n",
            "higher education 28\n",
            "funded department 28\n",
            "northern ireland 27\n",
            "advisory committee 27\n",
            "legal services 26\n"
          ],
          "name": "stdout"
        }
      ]
    },
    {
      "cell_type": "markdown",
      "metadata": {
        "id": "RO5NR-aFe7d-"
      },
      "source": [
        "## Using the CDX API - temporal analysis of the web archive\n",
        "\n",
        "CDX is a data format output by the Heritrix web crawler that captures high level information about an archived web resource, such as: snapshot date, mime type, status code (e.g. 200, 404), checksum.\n",
        "\n",
        "We can use it to view the snapshot history of a site, and will use the Environment Agency home page as an example.\n",
        "The TemporalIndexer object contains library code to query the CDX API for a site, store the results, but also calculate minimum and maximum dates."
      ]
    },
    {
      "cell_type": "code",
      "metadata": {
        "id": "VtDvD-X_B6MN",
        "colab": {
          "base_uri": "https://localhost:8080/"
        },
        "outputId": "4a88da16-fd79-4fc2-828f-cfb307c3eac3"
      },
      "source": [
        "T = TemporalIndexer()\n",
        "website = 'www.environment-agency.gov.uk'\n",
        "T.add_entry(website)\n",
        "[(T.field_list[i], v) for i,v in enumerate(T.lookup(website))]"
      ],
      "execution_count": null,
      "outputs": [
        {
          "output_type": "execute_result",
          "data": {
            "text/plain": [
              "[('MIN', 19961104034437),\n",
              " ('MAX', 20210330043843),\n",
              " ('COUNT', 840),\n",
              " ('CDX', <ukgwa_cdx_reader.CDXReader at 0x7f77ce0ce490>)]"
            ]
          },
          "metadata": {
            "tags": []
          },
          "execution_count": 6
        }
      ]
    },
    {
      "cell_type": "markdown",
      "metadata": {
        "id": "hNrutg4Vzo6F"
      },
      "source": [
        "We can plot the history of a website and changes over time using the CDX data. The checksum from CDX is used to derive a CHANGED indicator to show whether a page has been updated in any way since the previous snapshot.\n",
        "\n",
        "In the graph output, the upper (black) points represent unchanged snapshots, and the lower (pink) points represent those which have changed. We see the density of points increasing between 2008 and 2014 indicating increased archiving activity. This results in more duplicate pages but also suggests a greater percentage of updates are being captured. Contrast with 2004-2008 where we can not be sure all changes are represented in the archive. After 2014 all of the dots are black. Analysis of status code for these snapshots shows that the page was redirected in 2014 and the redirect message itself remains consistent throughout."
      ]
    },
    {
      "cell_type": "code",
      "metadata": {
        "colab": {
          "base_uri": "https://localhost:8080/",
          "height": 119
        },
        "id": "nnE7ji6_x6Oc",
        "outputId": "3b6f9bf6-d90f-4e07-cef9-32dfe8fa3f82"
      },
      "source": [
        "cdx_data = T.get_field(website, 'CDX')\n",
        "date_list = [snap_to_date(x) for x in cdx_data]\n",
        "changes = [cdx_data.get_field(c, 'CHANGED') for c in cdx_data]\n",
        "colour_list = ['#e56db1' if c else '#000000' for c in changes]\n",
        "xs = date_list\n",
        "ys = [-1 if c else 1 for c in changes]\n",
        "figure(figsize=(15, 1))\n",
        "pyplot.scatter(xs, ys, s=3, c = colour_list)\n",
        "pyplot.xticks(rotation=45, ha='right')\n",
        "pyplot.yticks([-1,1], ['Changed','Unchanged'])\n",
        "pyplot.show()"
      ],
      "execution_count": null,
      "outputs": [
        {
          "output_type": "display_data",
          "data": {
            "image/png": "[encoded data removed]",
            "text/plain": [
              "<Figure size 1080x72 with 1 Axes>"
            ]
          },
          "metadata": {
            "tags": [],
            "needs_background": "light"
          }
        }
      ]
    },
    {
      "cell_type": "markdown",
      "metadata": {
        "id": "PDqouhYu1mpN"
      },
      "source": [
        "That was for a single page. What happens if we wish to analyse more pages? We can use the code from earlier to loop through a list of urls and read their snapshot details from the CDX data. However, that could be seen as computationally wasteful if every user of the notebook requests details of the same pages.\n",
        "Once a row of CDX data is created, it does not change. So we have created an extract of the data which can be loaded into our TemporalIndexer. This does not mean the file will always be up to date, but it provides a baseline set of data which could be appended to via the API which will require less processing time than a full refresh.\n",
        "This data is based on a list of all of the home pages found in the A-Z index of the UKGWA. The A-Z data will be looked at in the next section of this notebook."
      ]
    },
    {
      "cell_type": "code",
      "metadata": {
        "id": "KEHCymNsCMLi"
      },
      "source": [
        "T.load_from_gzip(data_folder + \"ukgwa_cdx_data.psv.gz\")"
      ],
      "execution_count": null,
      "outputs": []
    },
    {
      "cell_type": "markdown",
      "metadata": {
        "id": "esZOlZDzHJpe"
      },
      "source": [
        "Having loaded the CDX data we can now recreate the barchart created from the catalogue but this time using data generated by the archiving process.\n",
        "We can see by comparing the two charts that there are a few differences, particularly in the pre-2005 section. This is understandable for a few reasons. The Discovery catalogue is updated manually rather than through an automated feed, so we can not expect it to be completely up to date - there are many competing priorities in cataloguing. Secondly, the start date in the catalogue may reflect the date of documents related to the web archive but not the web archive itself.\n",
        "This kind of data driven analysis does highlight the discrepancies between the two sources though, and should trigger further investigation to understand whether the differences are in interpretation, or due to data quality."
      ]
    },
    {
      "cell_type": "code",
      "metadata": {
        "colab": {
          "base_uri": "https://localhost:8080/",
          "height": 283
        },
        "id": "e2PNIDBTCi6h",
        "outputId": "c0991fb3-c171-420d-e653-5c27ce8d4503"
      },
      "source": [
        "cdx_years = {}\n",
        "for idx in T:\n",
        "    yr = str(T.get_field(idx, \"MIN\"))[:4]\n",
        "    if yr.isnumeric():\n",
        "        yr = int(yr)\n",
        "    else:\n",
        "        continue\n",
        "    if yr >= 1996:\n",
        "        if yr in cdx_years:\n",
        "            cdx_years[yr] += 1\n",
        "        else:\n",
        "            cdx_years[yr] = 1\n",
        "\n",
        "years, counts = zip(*sorted([[y,c] for y,c in cdx_years.items()], key=itemgetter(0), reverse=False))\n",
        "\n",
        "pyplot.bar(years,counts)"
      ],
      "execution_count": null,
      "outputs": [
        {
          "output_type": "execute_result",
          "data": {
            "text/plain": [
              "<BarContainer object of 26 artists>"
            ]
          },
          "metadata": {
            "tags": []
          },
          "execution_count": 15
        },
        {
          "output_type": "display_data",
          "data": {
            "image/png": "[encoded data removed]",
            "text/plain": [
              "<Figure size 432x288 with 1 Axes>"
            ]
          },
          "metadata": {
            "tags": [],
            "needs_background": "light"
          }
        }
      ]
    },
    {
      "cell_type": "markdown",
      "metadata": {
        "id": "mp9dbBSVIog-"
      },
      "source": [
        "## UKGWA's A to Z index\n",
        "\n",
        "The A-Z index lists every website which has been archived by UKGWA. It is held in an HTML page and so the text and urls need to be scraped from that page and transformed into data.\n",
        "\n",
        "This library code does just that. The UKGWAIndex object is a container for the data, and the indexfromweb method reads the data from the A-Z web page."
      ]
    },
    {
      "cell_type": "code",
      "metadata": {
        "id": "c313dy2mFkAh",
        "colab": {
          "base_uri": "https://localhost:8080/"
        },
        "outputId": "987c9012-03cf-419c-9fde-ae4ddacc7252"
      },
      "source": [
        "W = UKGWAIndex()\n",
        "W.indexfromweb()\n",
        "W.lookup('UKGWA.1')"
      ],
      "execution_count": null,
      "outputs": [
        {
          "output_type": "execute_result",
          "data": {
            "text/plain": [
              "['UKGWA.1',\n",
              " 'A sample campaign – Just another GOV.UK campaigns site',\n",
              " '*',\n",
              " 'https://sample.campaign.gov.uk/',\n",
              " 'N']"
            ]
          },
          "metadata": {
            "tags": []
          },
          "execution_count": 14
        }
      ]
    },
    {
      "cell_type": "markdown",
      "metadata": {
        "id": "-u0uQGqFJJ5X"
      },
      "source": [
        "The fields list shows there are 5 fields in the data. The REF is autogenerated and is meaningless outside the context of this notebook (e.g. UKGWA.1). The TEXT field is a description of the website, and URL is self-explantory. The CAT field shows what kind of web resource the URL points to. For web pages this value will be set to '*', but you will also find values such as 'twitter' and 'youtube'. The notebook will focus on the '*' URLs since the social media ones are not meant for computational access. The 'CATREF' field requires supplementary data but provides a link between UKGWA and Discovery."
      ]
    },
    {
      "cell_type": "code",
      "metadata": {
        "colab": {
          "base_uri": "https://localhost:8080/"
        },
        "id": "Ehn9e5Y4ISwh",
        "outputId": "dd2deed6-ad77-4650-86be-80916cd20fc5"
      },
      "source": [
        "W.field_list"
      ],
      "execution_count": null,
      "outputs": [
        {
          "output_type": "execute_result",
          "data": {
            "text/plain": [
              "['REF', 'TEXT', 'CAT', 'URL', 'CATREF']"
            ]
          },
          "metadata": {
            "tags": []
          },
          "execution_count": 17
        }
      ]
    },
    {
      "cell_type": "markdown",
      "metadata": {
        "id": "onJR-a2bKR81"
      },
      "source": [
        "The next two items of code will look familiar, they index the description text to find common phrases in the descriptions.\n",
        "\n",
        "<b>Estimate run time: 10 seconds</b>"
      ]
    },
    {
      "cell_type": "code",
      "metadata": {
        "id": "pWYikDW6IBZL"
      },
      "source": [
        "T_ukgwa = UKGWATextIndex(stop_words = [\"\", \"and\", \"of\", \"the\", \"in\", \"a\", \"by\", \"which\", \"their\",\"as\",\"an\",\n",
        "                                 \"for\",\"to\",\"if\",\"be\",\"this\",\"on\",\"are\",\"at\",\"were\",\"it\",\"is\",\"that\",\n",
        "                                 \"from\",\"been\",\"has\",\"have\",\"or\",\"there\",\"was\",\"they\",\"with\",\"these\"])\n",
        "for w in W:\n",
        "    if W.get_field(w, 'CAT') == '*':\n",
        "        T_ukgwa.add_entry(w, W.get_field(w, \"TEXT\").split(\" \"))"
      ],
      "execution_count": null,
      "outputs": []
    },
    {
      "cell_type": "markdown",
      "metadata": {
        "id": "uyhYFdSxKsFj"
      },
      "source": [
        "The descriptions are often in two parts with a '-' separating them, with each part having a different meaning. Which is why '- gov.uk blog' comes out as a top hit. A better way to index this text is by breaking descriptions into two using that '-' as a delimiter. But this simple approach does enough to highlight the types of material in the web archive. NHS is obviously a very large department but has considerably more sites than other departments, perhaps highlighting the diversity of its remit. A number of sites are marked as being related to 'covid-19', a piece of information that was visible in Discovery. "
      ]
    },
    {
      "cell_type": "code",
      "metadata": {
        "colab": {
          "base_uri": "https://localhost:8080/"
        },
        "id": "lfHxnVm0Isvj",
        "outputId": "8d98ce93-6fc2-4dc9-e732-85e551259dd0"
      },
      "source": [
        " N = 10  # Return top 15 results (by count)\n",
        "\n",
        "P = T_ukgwa.get_phrases(min_count = 5, min_length = 2)  # Phrases occurring at least 20 times with at least 2 words in them\n",
        "P.sort(key=itemgetter(1), reverse=True)\n",
        "for p in P[:N]:\n",
        "    print(\" \".join(p[0]), p[1])"
      ],
      "execution_count": null,
      "outputs": [
        {
          "output_type": "stream",
          "text": [
            "– gov.uk blog 138\n",
            "national health service (nhs) – 117\n",
            "gov.uk – 90\n",
            "national health service (nhs) 85\n",
            "national institute health research (nihr) – 60\n",
            "advisory committee 59\n",
            "– covid-19 41\n",
            "hm revenue & customs (hmrc) – 36\n",
            "directgov – 35\n",
            "department environment, food rural affairs (defra) – 34\n"
          ],
          "name": "stdout"
        }
      ]
    },
    {
      "cell_type": "markdown",
      "metadata": {
        "id": "B8mOYMUB7thf"
      },
      "source": [
        "There is no direct link between UKGWA and the Discovery API. The catalogue entries in Discovery do contain the URL but this is not surfaced through the API. We are therefore providing a data file to create this connection. The data file is not automatically updated and is unlikely to be frequently maintained, however, so more recent additions to the archive will not be reflected.\n",
        "\n",
        "The file is held in the Github repository and can be loaded through a library function. We now see that the fifth field in the data has been populated with a catalogue entry. This is the case for most but not all of the entries in the A-Z index."
      ]
    },
    {
      "cell_type": "code",
      "metadata": {
        "colab": {
          "base_uri": "https://localhost:8080/"
        },
        "id": "HPAWZ3Kh7cHR",
        "outputId": "d59171c8-2f3b-4fd1-ae65-7b3e23b66268"
      },
      "source": [
        "W.discoveryfromfile(data_folder + 'ukgwa_catrefs.txt')\n",
        "W.lookup('UKGWA.1')"
      ],
      "execution_count": null,
      "outputs": [
        {
          "output_type": "execute_result",
          "data": {
            "text/plain": [
              "['UKGWA.1',\n",
              " 'A sample campaign – Just another GOV.UK campaigns site',\n",
              " '*',\n",
              " 'https://sample.campaign.gov.uk/',\n",
              " 'GUK 207']"
            ]
          },
          "metadata": {
            "tags": []
          },
          "execution_count": 15
        }
      ]
    },
    {
      "cell_type": "code",
      "metadata": {
        "colab": {
          "base_uri": "https://localhost:8080/"
        },
        "id": "4uo93L2xCVvQ",
        "outputId": "b5d0f9f2-8eae-47a4-b0e6-be5871b1375f"
      },
      "source": [
        "c = 0\n",
        "for idx in D:\n",
        "    admin = D.get_field(idx, \"adminHistory\")\n",
        "    if len(admin.split(\" \")) > 50:\n",
        "        print(idx, admin)\n",
        "        c += 1\n",
        "        if c == 5:\n",
        "            break"
      ],
      "execution_count": null,
      "outputs": [
        {
          "output_type": "stream",
          "text": [
            "C13497801 The Joint Health Claims Initiative (JHCI) was launched in December 2000 as the UK body, made up of representatives of the food industry, consumer interest groups and enforcement authorities, which aimed to provide voluntary advice on the truthfulness of health claims for foods. It closed in March 2007. (Please Note: these snapshots were retrospectively taken in 2013 of this website which dates from 2007).\n",
            "C17986 Investors in People UK was formed in 1993 to provide business leadership and development for the investors in people standard, and to lead and undertake national promotion of the standard. The snapshots in this series begin in the period before June 2007 when it was the responsibility of the Department for Education and Skills, before becoming a non-departmental public body which receives funding from the Department for Business, Innovation and Skills (BIS).\n",
            "C11689435 The GovernorLine web site was established in May 2002 and offers free, confidential advice, information and support to School Governors, clerks and individuals involved directly in the governance of maintained schools in England. GovernorLine is a fully independent service owned and managed by Worklife Support (supported and funded by the DCSF, later the DfE).\n",
            "C12740406 The NHS IC (Information Centre) Indicator Portal gathers together a number of health and social care indicators. The NHS Information Centre is England’s national source of health and social care information and works with a wide range of health and social care providers nationwide to provide the facts and figures that help the NHS and social services run effectively.\n",
            "C16923 The Human Genetics Commission (HGC) is the UK Government's advisory body on new developments in human genetics and how they impact on individual lives. The HGC gives the Government advice on human genetics with a particular focus on the social, ethical and legal issues. One of its key roles is to promote debate and to listen to what the public and its stakeholders have to say.\n"
          ],
          "name": "stdout"
        }
      ]
    }
  ]
}