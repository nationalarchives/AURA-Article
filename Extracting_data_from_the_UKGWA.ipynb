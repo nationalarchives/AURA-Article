{
  "nbformat": 4,
  "nbformat_minor": 0,
  "metadata": {
    "colab": {
      "name": "Extracting data from the UKGWA.ipynb",
      "provenance": [],
      "collapsed_sections": [],
      "toc_visible": true,
      "authorship_tag": "ABX9TyNl9iipCs43oN/023gi8alV",
      "include_colab_link": true
    },
    "kernelspec": {
      "display_name": "Python 3",
      "name": "python3"
    },
    "language_info": {
      "name": "python"
    },
    "widgets": {
      "application/vnd.jupyter.widget-state+json": {
        "eb0c23c1a2ae49fdb0b02cfc3603492e": {
          "model_module": "@jupyter-widgets/controls",
          "model_name": "DropdownModel",
          "state": {
            "_options_labels": [
              "Environment Agency",
              "Salt",
              "Butterflies",
              "Space Education",
              "Professional Standards",
              "Investors in People"
            ],
            "_view_name": "DropdownView",
            "style": "IPY_MODEL_37996cc27579425ea9c8b9e763870bc4",
            "_dom_classes": [],
            "description": "",
            "_model_name": "DropdownModel",
            "index": 2,
            "_view_module": "@jupyter-widgets/controls",
            "_model_module_version": "1.5.0",
            "_view_count": null,
            "disabled": false,
            "_view_module_version": "1.5.0",
            "description_tooltip": null,
            "_model_module": "@jupyter-widgets/controls",
            "layout": "IPY_MODEL_c0e6819bed254738901e1a7c15b8f825"
          }
        },
        "37996cc27579425ea9c8b9e763870bc4": {
          "model_module": "@jupyter-widgets/controls",
          "model_name": "DescriptionStyleModel",
          "state": {
            "_view_name": "StyleView",
            "_model_name": "DescriptionStyleModel",
            "description_width": "",
            "_view_module": "@jupyter-widgets/base",
            "_model_module_version": "1.5.0",
            "_view_count": null,
            "_view_module_version": "1.2.0",
            "_model_module": "@jupyter-widgets/controls"
          }
        },
        "c0e6819bed254738901e1a7c15b8f825": {
          "model_module": "@jupyter-widgets/base",
          "model_name": "LayoutModel",
          "state": {
            "_view_name": "LayoutView",
            "grid_template_rows": null,
            "right": null,
            "justify_content": null,
            "_view_module": "@jupyter-widgets/base",
            "overflow": null,
            "_model_module_version": "1.2.0",
            "_view_count": null,
            "flex_flow": null,
            "width": null,
            "min_width": null,
            "border": null,
            "align_items": null,
            "bottom": null,
            "_model_module": "@jupyter-widgets/base",
            "top": null,
            "grid_column": null,
            "overflow_y": null,
            "overflow_x": null,
            "grid_auto_flow": null,
            "grid_area": null,
            "grid_template_columns": null,
            "flex": null,
            "_model_name": "LayoutModel",
            "justify_items": null,
            "grid_row": null,
            "max_height": null,
            "align_content": null,
            "visibility": null,
            "align_self": null,
            "height": null,
            "min_height": null,
            "padding": null,
            "grid_auto_rows": null,
            "grid_gap": null,
            "max_width": null,
            "order": null,
            "_view_module_version": "1.2.0",
            "grid_template_areas": null,
            "object_position": null,
            "object_fit": null,
            "grid_auto_columns": null,
            "margin": null,
            "display": null,
            "left": null
          }
        }
      }
    }
  },
  "cells": [
    {
      "cell_type": "markdown",
      "metadata": {
        "id": "view-in-github",
        "colab_type": "text"
      },
      "source": [
        "<a href=\"https://colab.research.google.com/github/nationalarchives/UKGWA-computational-access/blob/main/Extracting_data_from_the_UKGWA.ipynb\" target=\"_parent\"><img src=\"https://colab.research.google.com/assets/colab-badge.svg\" alt=\"Open In Colab\"/></a>"
      ]
    },
    {
      "cell_type": "markdown",
      "metadata": {
        "id": "qXOdnNLzO1fK"
      },
      "source": [
        "## Load library functions and data"
      ]
    },
    {
      "cell_type": "code",
      "metadata": {
        "id": "GTza1RbNLG25"
      },
      "source": [
        "import sys\n",
        "import os\n",
        "import shutil\n",
        "from matplotlib import pyplot\n",
        "from matplotlib.pyplot import figure\n",
        "from operator import itemgetter\n",
        "import datetime\n",
        "from gensim.summarization import summarizer\n",
        "# Function to convert snapshot timestamp to a date\n",
        "snap_to_date = lambda d : datetime.datetime.strptime(str(d), '%Y%m%d%H%M%S') # %I:%M%p')"
      ],
      "execution_count": 1,
      "outputs": []
    },
    {
      "cell_type": "code",
      "metadata": {
        "colab": {
          "base_uri": "https://localhost:8080/"
        },
        "id": "3URYl6-UL-95",
        "outputId": "f49b7634-8017-47fd-f0c9-79e4568a65b8"
      },
      "source": [
        "if os.path.isdir('AURA-Article'):\n",
        "    shutil.rmtree('AURA-Article')\n",
        "!git clone https://github.com/mark-bell-tna/AURA-Article.git\n",
        "sys.path.insert(0, 'AURA-Article/Code')\n",
        "data_folder = \"./AURA-Article/Data/\""
      ],
      "execution_count": 2,
      "outputs": [
        {
          "output_type": "stream",
          "text": [
            "Cloning into 'AURA-Article'...\n",
            "remote: Enumerating objects: 110, done.\u001b[K\n",
            "remote: Counting objects: 100% (110/110), done.\u001b[K\n",
            "remote: Compressing objects: 100% (75/75), done.\u001b[K\n",
            "remote: Total 110 (delta 44), reused 93 (delta 32), pack-reused 0\u001b[K\n",
            "Receiving objects: 100% (110/110), 14.94 MiB | 34.92 MiB/s, done.\n",
            "Resolving deltas: 100% (44/44), done.\n"
          ],
          "name": "stdout"
        }
      ]
    },
    {
      "cell_type": "code",
      "metadata": {
        "id": "xmz7oeoQMBvZ"
      },
      "source": [
        "from disco_search import DiscoSearch\n",
        "from ukgwa_textindex import UKGWATextIndex\n",
        "from ukgwa_cdx_indexer import TemporalIndexer\n",
        "from ukgwa_index import UKGWAIndex\n",
        "from ukgwa_url import UKGWAurl\n",
        "from bs4 import BeautifulSoup\n",
        "import requests\n",
        "import ipywidgets"
      ],
      "execution_count": 3,
      "outputs": []
    },
    {
      "cell_type": "code",
      "metadata": {
        "id": "UuYSYaGI2bS2",
        "colab": {
          "base_uri": "https://localhost:8080/"
        },
        "outputId": "85286b91-2385-4e44-a75a-8806b49ddecb"
      },
      "source": [
        "!pip install boilerpy3\n",
        "import boilerpy3\n",
        "from boilerpy3 import extractors"
      ],
      "execution_count": 4,
      "outputs": [
        {
          "output_type": "stream",
          "text": [
            "Collecting boilerpy3\n",
            "  Downloading https://files.pythonhosted.org/packages/f8/c1/aa6b2ab42a3678892de45fac2b1f4bbc326af1559214bfc563b5e0ef78b2/boilerpy3-1.0.4-py3-none-any.whl\n",
            "Installing collected packages: boilerpy3\n",
            "Successfully installed boilerpy3-1.0.4\n"
          ],
          "name": "stdout"
        }
      ]
    },
    {
      "cell_type": "code",
      "metadata": {
        "id": "nsYTMrrCleqm"
      },
      "source": [
        "ukgwa_prefix = \"https://webarchive.nationalarchives.gov.uk/\"\n",
        "examples = [[\"Environment Agency\", \"http://www.environment-agency.gov.uk:80\",\"19961104034437\"],\n",
        "            [\"Salt\", \"http://www.salt.gov.uk\", \"20090810121540\"],\n",
        "            [\"Butterflies\", \"http://www.ukbms.org\", \"20140402194840\"],\n",
        "            [\"Space Education\", \"http://www.esero.org.uk\", \"20140508193217\"],\n",
        "            [\"Professional Standards\", \"http://www.professionalstandards.org.uk\", \"20160506161604\"],\n",
        "            [\"Investors in People\", \"http://www.investorsinpeople.co.uk/Pages/Home.aspx\", \"20120418183519\"]]\n",
        "example_dropdown = ipywidgets.widgets.Dropdown(options=[e[0] for e in examples])"
      ],
      "execution_count": 5,
      "outputs": []
    },
    {
      "cell_type": "markdown",
      "metadata": {
        "id": "5JHoVWTjiGky"
      },
      "source": [
        "## Extracting links from archived web pages\n",
        "\n",
        "Opening and extracting from a web page is made easy by the Python library BeautifulSoup. It converts an HTML page into structural elements and provides functions for navigating the structure and extracting elements by type.\n",
        "One element which is of interest is the hyperlink. This consists of a descriptive label and address of a web page. By extracting all of the links from a page, or a set of pages, we can create the data to perform network analysis.\n",
        "Before doing that we need to be aware of the varying formats of urls which appear on a page.\n"
      ]
    },
    {
      "cell_type": "markdown",
      "metadata": {
        "id": "OjVMwrXr7KSC"
      },
      "source": [
        "The Environment Agency page has two formats of link: snapshot + page, or ./page. The latter is known as relative addressing which means it refers to files which are in a sub-folder of the current page address. The former we will call snapshot format.\n",
        "\n",
        "The Salt home page also includes two formats: this time the relative addresses do not include the ./. There are also two links to a page in a different domain (food.gov.uk). In this case the address not only includes the snapshot but also has the prefix of the web archive domain. We will refer to this a complete address. An address in this format can be immediately navigated to (or crawled) without any pre-processing of the address.\n",
        "\n",
        "The remainder of the sites follow similar patterns.\n",
        "\n",
        "Begin by running the first code block to refresh the dropdown menu of example web pages. Once that is done you can select a page from the list and run the following block to see links from the selected site, as many times as you wish."
      ]
    },
    {
      "cell_type": "code",
      "metadata": {
        "colab": {
          "base_uri": "https://localhost:8080/",
          "height": 49,
          "referenced_widgets": [
            "eb0c23c1a2ae49fdb0b02cfc3603492e",
            "37996cc27579425ea9c8b9e763870bc4",
            "c0e6819bed254738901e1a7c15b8f825"
          ]
        },
        "id": "QGW691XJjiXS",
        "outputId": "2bcf028e-22c4-4258-a8e6-9c1d260821bb"
      },
      "source": [
        "example_dropdown"
      ],
      "execution_count": 11,
      "outputs": [
        {
          "output_type": "display_data",
          "data": {
            "application/vnd.jupyter.widget-view+json": {
              "model_id": "eb0c23c1a2ae49fdb0b02cfc3603492e",
              "version_minor": 0,
              "version_major": 2
            },
            "text/plain": [
              "Dropdown(index=2, options=('Environment Agency', 'Salt', 'Butterflies', 'Space Education', 'Professional Stand…"
            ]
          },
          "metadata": {
            "tags": []
          }
        }
      ]
    },
    {
      "cell_type": "code",
      "metadata": {
        "colab": {
          "base_uri": "https://localhost:8080/"
        },
        "id": "XDxxk8DhOcT1",
        "outputId": "b25f989f-0a50-45a9-856f-6996dfc69717"
      },
      "source": [
        "ex_id = example_dropdown.index\n",
        "\n",
        "ex = examples[ex_id]\n",
        "page = requests.get(ukgwa_prefix + ex[2] + \"/\" + ex[1])\n",
        "soup = BeautifulSoup(page.content, 'html.parser')\n",
        "\n",
        "print(\"Links from\", ex[2] + \"/\" + ex[1])\n",
        "links = soup.find_all('a')\n",
        "for ln in links:\n",
        "    if ln.has_attr('href'):\n",
        "        print(\"\\t\",ln['href'])"
      ],
      "execution_count": 16,
      "outputs": [
        {
          "output_type": "stream",
          "text": [
            "Links from 20140402194840/http://www.ukbms.org\n",
            "\t #NavigationMenu_SkipLink\n",
            "\t Default.aspx\n",
            "\t involved.aspx\n",
            "\t wcbs.aspx\n",
            "\t indicators.aspx\n",
            "\t KeyFindings.aspx\n",
            "\t news.aspx\n",
            "\t reportsAndPublications.aspx\n",
            "\t resources.aspx\n",
            "\t Specieslist.aspx\n",
            "\t map.aspx\n",
            "\t About.aspx\n",
            "\t Methods.aspx\n",
            "\t Obtaining.aspx\n",
            "\t Links.aspx\n",
            "\t Contacts.aspx\n",
            "\t #SiteMapDataProvider_SkipLink\n",
            "\t wcbs.aspx\n",
            "\t about.aspx\n",
            "\t Methods.aspx\n",
            "\t Obtaining.aspx\n",
            "\t https://webarchive.nationalarchives.gov.uk/20140402194840/http://www.butterfly-conservation.org/bnm/atlas/index.html\n",
            "\t https://webarchive.nationalarchives.gov.uk/20140402194840/http://www.naturebureau.co.uk/shop/books/StateofButterflies.html\n",
            "\t docs/reports/2013/Country-level Summary of changes Table 2013.pdf\n",
            "\t docs/reports/2013/UK Summary of changes Table 2013.pdf\n",
            "\t Downloads\\Wider_Countryside\\Newsletter_WCBS2013.pdf\n",
            "\t downloads/National Butterfly Recorders' Meeting 2014 Programme.pdf\n",
            "\t https://webarchive.nationalarchives.gov.uk/20140402194840/http://butterfly-conservation.org/244-4890/national-butterfly-recorders-meeting.html\n",
            "\t https://webarchive.nationalarchives.gov.uk/20140402194840/http://www.ukbms.org/mydata\n",
            "\t KeyFindings.aspx\n",
            "\t https://webarchive.nationalarchives.gov.uk/20140402194840/http://www.ceh.ac.uk/\n",
            "\t https://webarchive.nationalarchives.gov.uk/20140402194840/http://www.butterfly-conservation.org/\n",
            "\t https://webarchive.nationalarchives.gov.uk/20140402194840/http://www.jncc.gov.uk/\n",
            "\t https://webarchive.nationalarchives.gov.uk/20140402194840/https://www.gov.uk/defra\n",
            "\t https://webarchive.nationalarchives.gov.uk/20140402194840/http://www.ccw.gov.uk/\n",
            "\t https://webarchive.nationalarchives.gov.uk/20140402194840/http://www.naturalengland.org.uk/\n",
            "\t https://webarchive.nationalarchives.gov.uk/20140402194840/http://www.forestry.gov.uk/\n",
            "\t https://webarchive.nationalarchives.gov.uk/20140402194840/http://www.snh.org.uk/\n",
            "\t https://webarchive.nationalarchives.gov.uk/20140402194840/http://www.BTO.org/\n",
            "\t wider_countryside_reporting_visit.aspx\n",
            "\t https://webarchive.nationalarchives.gov.uk/20140402194840/http://www.ceh.ac.uk/\n",
            "\t https://webarchive.nationalarchives.gov.uk/20140402194840/http://www.butterfly-conservation.org\n",
            "\t https://webarchive.nationalarchives.gov.uk/20140402194840/http://www.jncc.gov.uk/\n",
            "\t https://webarchive.nationalarchives.gov.uk/20140402194840/http://www.defra.gov.uk/\n",
            "\t https://webarchive.nationalarchives.gov.uk/20140402194840/http://www.brc.ac.uk/\n",
            "\t https://webarchive.nationalarchives.gov.uk/20140402194840/http://www.google.com/\n"
          ],
          "name": "stdout"
        }
      ]
    },
    {
      "cell_type": "markdown",
      "metadata": {
        "id": "TRTItrkenZNU"
      },
      "source": [
        "What the preceding code has demonstrated is that a certain amount of pre-processing is necessary to resolve link addresses to valid web archive addresses (complete addresses). The solution is simple but is a step that users should be aware of. The following steps should be taken to standardise addresses:\n",
        "\n",
        "1. Complete addresses: leave as they are\n",
        "2. Snapshot addresses: prefix with \"https://webarchive.nationalarchives.gov.uk/\"\n",
        "3. Relative addresses: prefix with the complete address of the page containing the link which must also end in a \"/\""
      ]
    },
    {
      "cell_type": "markdown",
      "metadata": {
        "id": "iW5QbU9Bo_Eu"
      },
      "source": [
        "The next thing to be aware of is that the snapshot timestamp in a web archive URL does not necessarily point to an existing page. The timestamp of a page refers to the time it was crawled which may have occurred seconds or even years after the timestamp in a hyperlink to that page.\n",
        "\n",
        "We can use the CDX data to further analyse this. From the Environment Agency homepage we see that their State of the Environment report was captured 1154 seconds (19 minutes) later than the link address."
      ]
    },
    {
      "cell_type": "code",
      "metadata": {
        "colab": {
          "base_uri": "https://localhost:8080/"
        },
        "id": "-L82bWL6vzuW",
        "outputId": "7fab9bd7-9667-4977-ff7b-140aa10554e4"
      },
      "source": [
        "T = TemporalIndexer()\n",
        "url = \"http://www.environment-agency.gov.uk:80/s-enviro.html\"\n",
        "snapshot = 19961104034437\n",
        "T.add_entry(url)\n",
        "nearest_snapshot = snap_to_date(T.get_field(url, 'CDX').nearest_to(19961104034437))\n",
        "(nearest_snapshot - snap_to_date(snapshot))"
      ],
      "execution_count": null,
      "outputs": [
        {
          "output_type": "execute_result",
          "data": {
            "text/plain": [
              "datetime.timedelta(seconds=1154)"
            ]
          },
          "metadata": {
            "tags": []
          },
          "execution_count": 6
        }
      ]
    },
    {
      "cell_type": "markdown",
      "metadata": {
        "id": "AIHe5MbczGxq"
      },
      "source": [
        "In constrast, the \"Who we are\" page was first captured over 467 later than the link address states. This is an extreme example but makes the point that whether a page linked to is crawled or not depends on both the depth of the crawl and the success of crawling an individual page."
      ]
    },
    {
      "cell_type": "code",
      "metadata": {
        "colab": {
          "base_uri": "https://localhost:8080/"
        },
        "id": "nOyMe8uByDF3",
        "outputId": "9fb08e37-ae10-4a6a-be28-1859ce040f01"
      },
      "source": [
        "T = TemporalIndexer()\n",
        "url = \"http://www.environment-agency.gov.uk:80/who.html\"\n",
        "snapshot = 19961104034437\n",
        "T.add_entry(url)\n",
        "nearest_snapshot = snap_to_date(T.get_field(url, 'CDX').nearest_to(19961104034437))\n",
        "(nearest_snapshot - snap_to_date(snapshot))"
      ],
      "execution_count": null,
      "outputs": [
        {
          "output_type": "execute_result",
          "data": {
            "text/plain": [
              "datetime.timedelta(days=467, seconds=26444)"
            ]
          },
          "metadata": {
            "tags": []
          },
          "execution_count": 7
        }
      ]
    },
    {
      "cell_type": "markdown",
      "metadata": {
        "id": "Fpyvkc_18Ayw"
      },
      "source": [
        "## Extracting content from archived web pages\n",
        "\n",
        "One challenge with working with HTML pages is extracting text from those pages. Using the same examples from before, we can use the BeautifulSoup library to extract text from each page.\n",
        "\n",
        "It should be immediately obvious that this is messy as the text also includes a javascript program which is used to render the page in the web archive interface.\n",
        "\n",
        "As before, run the code to refresh the dropdown list before running the text extraction code."
      ]
    },
    {
      "cell_type": "code",
      "metadata": {
        "colab": {
          "base_uri": "https://localhost:8080/",
          "height": 49,
          "referenced_widgets": [
            "eb0c23c1a2ae49fdb0b02cfc3603492e",
            "37996cc27579425ea9c8b9e763870bc4",
            "c0e6819bed254738901e1a7c15b8f825"
          ]
        },
        "id": "SWTEyHjn9iN-",
        "outputId": "e3928a05-a98f-4a12-c62a-122686ea8ec9"
      },
      "source": [
        "example_dropdown"
      ],
      "execution_count": 17,
      "outputs": [
        {
          "output_type": "display_data",
          "data": {
            "application/vnd.jupyter.widget-view+json": {
              "model_id": "eb0c23c1a2ae49fdb0b02cfc3603492e",
              "version_minor": 0,
              "version_major": 2
            },
            "text/plain": [
              "Dropdown(index=2, options=('Environment Agency', 'Salt', 'Butterflies', 'Space Education', 'Professional Stand…"
            ]
          },
          "metadata": {
            "tags": []
          }
        }
      ]
    },
    {
      "cell_type": "code",
      "metadata": {
        "colab": {
          "base_uri": "https://localhost:8080/",
          "height": 139
        },
        "id": "HjGignTc2ZV5",
        "outputId": "22b01809-30fc-48a9-8bd5-1da0cb218b01"
      },
      "source": [
        "ex_id = example_dropdown.index\n",
        "ex = examples[ex_id]\n",
        "page = requests.get(ukgwa_prefix + ex[2] + \"/\" + ex[1])\n",
        "soup = BeautifulSoup(page.content, 'html.parser')\n",
        "soup.get_text()"
      ],
      "execution_count": null,
      "outputs": [
        {
          "output_type": "execute_result",
          "data": {
            "application/vnd.google.colaboratory.intrinsic+json": {
              "type": "string"
            },
            "text/plain": [
              "'\\n\\n\\n\\n    // This block sets up a series of server-defined variables for use within Wombat\\n    wbinfo = {\\n        url           : \"http://www.environment-agency.gov.uk:80/\",\\n        timestamp     : \"19961104034437\",\\n        request_ts    : \"19961104034437\",\\n        prefix        : decodeURI(\"https://webarchive.nationalarchives.gov.uk/\"),\\n        mod           : \"\",\\n        origurl       : \"19961104034437/www.environment-agency.gov.uk:80/\",\\n        type          : \"replay\",\\n        top_url       : \"https://webarchive.nationalarchives.gov.uk/19961104034437tf_/http://www.environment-agency.gov.uk:80/\",\\n        is_framed     : true,\\n        is_live       : false,\\n        coll          : \"\",\\n        proxy_magic   : \"\",\\n        static_prefix : \"https://webarchive.nationalarchives.gov.uk/static/__pywb\"\\n    };\\n\\n\\n \\n \\n\\n \\n\\n\\n    // Since we\\'re in rewrite mode, add a few more variables for later use\\n    wbinfo.wombat_ts = \"19961104034437\";\\n    wbinfo.wombat_scheme = \"http\";\\n    wbinfo.wombat_host = \"www.environment-agency.gov.uk:80\";\\n    wbinfo.wombat_sec = \"847079077\";\\n    wbinfo.wombat_opts = {};\\n\\n    // If we don\\'t already have a Wombat instance in the page, set one up\\n    if (window && window._WBWombat && !window._wb_js_inited && !window._wb_wombat) {\\n        window._wb_wombat = new _WBWombat(wbinfo);\\n    }\\n\\n    // If all our relevant information exists, set the banner details\\n    if (wbinfo && wbinfo.timestamp) {\\n        // Create our prettified date for the banner\\n        ts_new_str = _wb_js.ts_to_pretty_date(wbinfo.timestamp);\\n\\n        // Get our text elements to setup\\n        var mobileTextElements = window.top.document.getElementsByClassName(\\'mw-mobile-text\\');\\n        var desktopTextElements = window.top.document.getElementsByClassName(\\'mw-desktop-text\\');\\n        \\n        if(desktopTextElements.length > 0) {\\n            console.log(\"[MW Head Insert] Set banner text for desktop.\");\\n            desktopTextElements[0].innerHTML = ts_new_str;\\n        }\\n\\n        if(mobileTextElements.length > 0) {\\n            console.log(\"[MW Head Insert] Set banner text for mobile.\");\\n            mobileTextElements[0].innerHTML = ts_new_str;\\n        }\\n  }\\n\\n\\n if (window._wb_js) { _wb_js.load(); }\\n\\nEnvironment Agency Home Page\\n\\n\\n\\n\\n\\n\\n\\n\\n\\n\\nWelcome to the Environment Agency of England and Wales Web Site.\\n\\nA text only version of this site is available.\\nA key feature of this site is our State of the Environment report: this is a snapshot look at the pressures on the environment and how the quality of the environment has changed over the last twenty-five or so years.\\n\\n\\nThis web site will be regularly updated and enhanced to provide comprehensive information and advice on the protection and management of the environment.  Look in the information and resource pages for details on how to contact us.\\n\\n\\nYou can also request copies of our  publications and leaflets on line and review the educational  services we will be offering.  And, of course we encourage you to give us your comments \\non any aspect of the Agency. \\n\\n\\n\\n\\n\\n\\n\\n\\n\\n\\nTo find specific information you can directly search the entire content of this site. An index is also available to aid navigation.\\nPlease enter your search request here:\\n\\n\\n\\n\\n\\n\\n\\n\\n\\n\\n\\n\\n© Environment Agency 1996. If you have any difficulties with this site please contact the Webmaster.  Don\\'t forget to register to be kept up to date with any changes\\n\\n\\n'"
            ]
          },
          "metadata": {
            "tags": []
          },
          "execution_count": 7
        }
      ]
    },
    {
      "cell_type": "markdown",
      "metadata": {
        "id": "5HRiKqjO9eyw"
      },
      "source": [
        "Thankfully BeautifulSoup makes it easy to remove script elements from the HTML. This time we get pure text, however, if we were to compare this with the original web page we see that text from menus is also included. This might be ok for an individual page but when performing text analysis across a site the menu items will be repeated for every page thereby creating unwanted noise."
      ]
    },
    {
      "cell_type": "code",
      "metadata": {
        "colab": {
          "base_uri": "https://localhost:8080/",
          "height": 49,
          "referenced_widgets": [
            "eb0c23c1a2ae49fdb0b02cfc3603492e",
            "37996cc27579425ea9c8b9e763870bc4",
            "c0e6819bed254738901e1a7c15b8f825"
          ]
        },
        "id": "wMb0NC-a96xm",
        "outputId": "622000ca-9e56-45f7-82b8-c092eabf549a"
      },
      "source": [
        "example_dropdown  # Please run me"
      ],
      "execution_count": 18,
      "outputs": [
        {
          "output_type": "display_data",
          "data": {
            "application/vnd.jupyter.widget-view+json": {
              "model_id": "eb0c23c1a2ae49fdb0b02cfc3603492e",
              "version_minor": 0,
              "version_major": 2
            },
            "text/plain": [
              "Dropdown(index=2, options=('Environment Agency', 'Salt', 'Butterflies', 'Space Education', 'Professional Stand…"
            ]
          },
          "metadata": {
            "tags": []
          }
        }
      ]
    },
    {
      "cell_type": "code",
      "metadata": {
        "colab": {
          "base_uri": "https://localhost:8080/",
          "height": 160
        },
        "id": "75mhxtNQ9EVK",
        "outputId": "1c61b3c3-76fe-468a-c9ec-026ac14eac7e"
      },
      "source": [
        "ex_id = example_dropdown.index\n",
        "ex = examples[ex_id]\n",
        "page = requests.get(ukgwa_prefix + ex[2] + \"/\" + ex[1])\n",
        "soup = BeautifulSoup(page.content, 'html.parser')\n",
        "for s in soup.select('script'):\n",
        "    s.extract()\n",
        "soup.get_text().replace(\"\\n\",\" \").replace(\"  \",\" \")"
      ],
      "execution_count": 19,
      "outputs": [
        {
          "output_type": "execute_result",
          "data": {
            "application/vnd.google.colaboratory.intrinsic+json": {
              "type": "string"
            },
            "text/plain": [
              "'       \\r \\tHome Page\\r            Home How to get involvedWider countryside butterfly surveyButterflies as indicatorsKey findingsNewsReports & PublicationsResourcesSpecies ListsSite Locations AboutMethodsObtaining dataLinksContact us   Home  \\r       The UK Butterfly Monitoring Scheme (UKBMS)\\r      Welcome to the United Kingdom Butterfly Monitoring Scheme (UKBMS), a merger of the long-running Butterfly Monitoring Scheme (BMS) with Butterfly\\r         Conservation\\'s co-ordination of \\'independent\\' transects. The scheme now records data on over 1,000 sites annually and also \\r         incorporates the Wider Countryside Butterfly Survey (WCBS). The resulting UKBMS dataset\\r         is one of the most important resources for understanding changes in insect populations...\\r       [more]     Boloria euphrosyne © Nick G-D  \\r       The scheme has monitored changes in the abundance of butterflies throughout the United Kingdom since 1976. Since then, recorders have made around a quarter of a million weekly visits to more than 1,500 separate sites, walking over half a million kilometres and counting over 16.4 million butterflies!\\r        \\r       The UKBMS is based on a well-established and enjoyable recording\\r         method and has produced important insights into almost all aspects\\r           of butterfly ecology. \\r         A new publication, \"The State of Butterflies in Britain and Ireland\",\\r         was launched on May 15th. This book is a follow-up to the hugely successful Butterflies for the New Millenium atlas, and is available\\r         to purchase from the publishers, Nature Bureau (price: £14.50 inc. p&p)\\r        \\r       \\xa0 \\r         Latest News  2013 Country-level summary of changes table available online   2013 Summary\\r             of changes table available online   Wider Countryside Butterfly Survey Newsletter available online   \\r This yearâ€™s National Recorders Meeting will be held at the Birmingham and Midland Institute conference centre on March 22nd. In addition to the latest information on butterfly trends from the national recording and monitoring schemes, there will be a range of interesting presentations from guest speakers covering new research findings and feedback from butterfly recorders across the UK. The full programme is available here. For further details and to book a place please visit: http://butterfly-conservation.org/244-4890/national-butterfly-recorders-meeting.html   \\r           Online Transect Walker now up and running. Go to Mydata: www.ukbms.org/mydata   Key Findings  \\r         The UKBMS operates as a partnership between the \\r           Centre for Ecology and Hydrology (CEH), Butterfly Conservation (BC)\\r         and the Joint Nature Conservation\\r           Committee (JNCC) with funding by a multi-agency consortium led by the \\r           Department for Environmental Food and Rural Affairs (DEFRA)\\r \\t\\t\\t\\t\\t, and including the Natural Resources Wales (NRW),\\r         Natural England\\r         (NE), \\r           Forestry Commission (FC), and \\r           Scottish Natural Heritage (SNH). In addition, the \\r           British Trust for Ornithology (BTO) are partners in the \\r           Wider Countryside Butterfly Survey (WCBS) which is incorporated within the UKBMS.\\r          \\xa0\\xa0 \\r         The UKBMS\\r         is supported by JNCC,\\r         BTO, Defra,\\r         NE, SNH, NRW\\r         and FC \\r         This website it maintained by the Biological Records\\r           Centre at CEH Wallingford, UK © 2006\\r         \\r             SEARCH THIS SITE:     \\r             www.ukbms.org   \\r             The WWW  Powered by Google      '"
            ]
          },
          "metadata": {
            "tags": []
          },
          "execution_count": 19
        }
      ]
    },
    {
      "cell_type": "markdown",
      "metadata": {
        "id": "V4qh1t7M-E8v"
      },
      "source": [
        "A more sophisticated approach to extracting content is to use a boilerplate removal tool, such as boilerpy3. This tool will strip out all of the menus and only return the textual content of the page.\n",
        "\n",
        "The tool needs to be used with care though. While the first example looks great, we see that example 2 returns nothing at all, while example 3 returns a copyright notice. This is because home pages are entry points to a site and are often to help find pages within the site. They are therefore light on content and heavy on boilerplate."
      ]
    },
    {
      "cell_type": "code",
      "metadata": {
        "colab": {
          "base_uri": "https://localhost:8080/",
          "height": 49,
          "referenced_widgets": [
            "eb0c23c1a2ae49fdb0b02cfc3603492e",
            "37996cc27579425ea9c8b9e763870bc4",
            "c0e6819bed254738901e1a7c15b8f825"
          ]
        },
        "id": "LENufOdq-In7",
        "outputId": "e83edae9-afee-4052-cc45-6635f30157fd"
      },
      "source": [
        "example_dropdown  # Please run me"
      ],
      "execution_count": 20,
      "outputs": [
        {
          "output_type": "display_data",
          "data": {
            "application/vnd.jupyter.widget-view+json": {
              "model_id": "eb0c23c1a2ae49fdb0b02cfc3603492e",
              "version_minor": 0,
              "version_major": 2
            },
            "text/plain": [
              "Dropdown(index=2, options=('Environment Agency', 'Salt', 'Butterflies', 'Space Education', 'Professional Stand…"
            ]
          },
          "metadata": {
            "tags": []
          }
        }
      ]
    },
    {
      "cell_type": "code",
      "metadata": {
        "colab": {
          "base_uri": "https://localhost:8080/",
          "height": 160
        },
        "id": "I2OzwdYh9_1B",
        "outputId": "b1f056e4-4d44-414f-89c9-e0003e07f541"
      },
      "source": [
        "ex_id = example_dropdown.index\n",
        "ex = examples[ex_id]\n",
        "page = requests.get(ukgwa_prefix + ex[2] + \"/\" + ex[1])\n",
        "soup = BeautifulSoup(page.content, 'html.parser')\n",
        "extractor = extractors.ArticleExtractor()\n",
        "content = extractor.get_content(str(soup))\n",
        "content"
      ],
      "execution_count": 21,
      "outputs": [
        {
          "output_type": "execute_result",
          "data": {
            "application/vnd.google.colaboratory.intrinsic+json": {
              "type": "string"
            },
            "text/plain": [
              "'Wider Countryside Butterfly Survey Newsletter available online\\nThis yearâ€™s National Recorders Meeting will be held at the Birmingham and Midland Institute conference centre on March 22nd. In addition to the latest information on butterfly trends from the national recording and monitoring schemes, there will be a range of interesting presentations from guest speakers covering new research findings and feedback from butterfly recorders across the UK. The full programme is available here . For further details and to book a place please visit: http://butterfly-conservation.org/244-4890/national-butterfly-recorders-meeting.html\\nOnline Transect Walker now up and running. Go to Mydata: www.ukbms.org/mydata\\nThe UKBMS operates as a partnership between the Centre for Ecology and Hydrology (CEH), Butterfly Conservation (BC)\\r\\n                and the Joint Nature Conservation\\r\\n                    Committee (JNCC) with funding by a multi-agency consortium led by the Department for Environmental Food and Rural Affairs (DEFRA)\\r\\n\\t\\t\\t\\t\\t, and including the Natural Resources Wales (NRW), Natural England (NE), Forestry Commission (FC), and Scottish Natural Heritage (SNH). In addition, the British Trust for Ornithology (BTO) are partners in the Wider Countryside Butterfly Survey (WCBS) which is incorporated within the UKBMS.\\nThe UKBMS is supported by JNCC , BTO , Defra , NE , SNH , NRW and FC\\nThis website it maintained by the Biological Records\\r\\n                    Centre at CEH Wallingford, UK © 2006\\nSEARCH THIS SITE:\\n'"
            ]
          },
          "metadata": {
            "tags": []
          },
          "execution_count": 21
        }
      ]
    },
    {
      "cell_type": "markdown",
      "metadata": {
        "id": "c9Q3bkHa2zDI"
      },
      "source": [
        "## Auto-generating website summaries\n",
        "\n",
        "In the first notebook we looked at the varios descriptions available in Discovery and the A-Z list. The most descriptive of these was the Administrative History from Discovery. Currently this only exists for around one-third of website. The content of the web archive is open and fully indexed so it can be searched but one feature of a good catalogue description is that it provides an overview of a document to let the user know whether that document is worth opening or requesting from the reading room.\n",
        "\n",
        "The great thing about computational access is that in the absence of a catalogue summary we can automate the creation of our own. Using some of the code from earlier to find links, combined with the boilerplate removal tool, we can extract the content from pages linked to on the home page of a site, which are part of that site.\n",
        "\n",
        "Then we can apply a machine learning algorithm called Document Summarisation (from the gensim NLP library) to summarise all of the pages into a short paragraph.\n",
        "We will try it for one of the earlier examples. First, we crawl each linked to page and extract the content into a list:"
      ]
    },
    {
      "cell_type": "markdown",
      "metadata": {
        "id": "PHwoS1GPDzim"
      },
      "source": [
        "We can compare some of these results with the Administrative History from the first notebook. First we need to set up the data including extracting from the Discovery API, as in notebook 1.\n",
        "\n",
        "<b>Estimated running time 40 seconds</b>"
      ]
    },
    {
      "cell_type": "code",
      "metadata": {
        "colab": {
          "base_uri": "https://localhost:8080/"
        },
        "id": "NCDap3F1Dyie",
        "outputId": "928d671e-6f5f-4b4b-fab0-9cde7d2718ca"
      },
      "source": [
        "W = UKGWAIndex()\n",
        "W.indexfromweb()\n",
        "W.discoveryfromfile(data_folder + 'ukgwa_catrefs.txt')\n",
        "disco_web_lookup = {}\n",
        "ex_urls = [ex[1] for ex in examples]\n",
        "for w in W:\n",
        "    url = W.get_field(w, 'URL')\n",
        "    if url[-1] == \"/\":\n",
        "        url = url[:-1]\n",
        "    if url in ex_urls:\n",
        "        catref = W.get_field(w, 'CATREF')\n",
        "        disco_web_lookup[catref] = w\n",
        "\n",
        "D = DiscoSearch()\n",
        "D.add_entry('web AND snapshots')\n",
        "example_admin = {}\n",
        "for d in D:\n",
        "    if D.get_field(d, 'reference') in disco_web_lookup:\n",
        "        web_ref = disco_web_lookup[D.get_field(d, 'reference')]\n",
        "        url = W.get_field(web_ref, 'URL')\n",
        "        if url[-1] == \"/\":\n",
        "            url = url[:-1]\n",
        "        example_admin[W.get_field(web_ref, 'URL')] = D.get_field(d, 'adminHistory')\n"
      ],
      "execution_count": null,
      "outputs": [
        {
          "output_type": "stream",
          "text": [
            "http://www.investorsinpeople.co.uk/Pages/Home.aspx\n",
            "http://www.professionalstandards.org.uk\n",
            "http://www.salt.gov.uk\n",
            "http://www.ukbms.org\n",
            "http://www.esero.org.uk\n",
            "IAID: C17986 URL: http://www.investorsinpeople.co.uk/Pages/Home.aspx Data: Investors in People UK was formed in 1993 to provide business leadership and development for the investors in people standard, and to lead and undertake national promotion of the standard. The snapshots in this series begin in the period before June 2007 when it was the responsibility of the Department for Education and Skills, before becoming a non-departmental public body which receives funding from the Department for Business, Innovation and Skills (BIS).\n",
            "IAID: C11689433 URL: http://www.esero.org.uk/ Data: ESERO-UK, also known as the UK Space Education Office, aims to promote the use of space to enhance and support the teaching and learning of Science, Technology, Engineering and Mathematics (STEM) in schools and colleges throughout the UK. ESERO-UK is funded by the European Space Agency (ESA) and the Department for Education.\n",
            "IAID: C13497803 URL: http://www.professionalstandards.org.uk/ Data: The Professional Standards Authority for Health and Social Care oversees statutory bodies that regulate health and social care professionals in the UK. The Authority assesses their performance, conducts audits, scrutinises their decisions and reports to Parliament. The Authority also sets standards for organisations holding voluntary registers for health and social care occupations and accredit those that meet them. The Authority was previously known as the Council for Healthcare Regulatory Excellence (CHRE).\n",
            "IAID: C16934 URL: http://www.salt.gov.uk/ Data: \n",
            "IAID: C17571 URL: http://www.ukbms.org/ Data: The UK Butterfly Monitoring Scheme (UKBMS) is run as a partnership between the Centre for Ecology and Hydrology (CEH), Butterfly Conservation (BC) and the Joint Nature Conservation Committee (JNCC).\n"
          ],
          "name": "stdout"
        }
      ]
    },
    {
      "cell_type": "markdown",
      "metadata": {
        "id": "0jLYAUmGOAIA"
      },
      "source": [
        "This code performs the crawling of the pages linked to from the home page (within the same site). It then summarises each page using the summarization function from gensim, and stores a list of the summaries."
      ]
    },
    {
      "cell_type": "code",
      "metadata": {
        "id": "8c-_yitZ-Xeg"
      },
      "source": [
        "example_dropdown"
      ],
      "execution_count": null,
      "outputs": []
    },
    {
      "cell_type": "code",
      "metadata": {
        "colab": {
          "base_uri": "https://localhost:8080/"
        },
        "id": "xUQueF9kr1gu",
        "outputId": "2941d235-d5f9-473d-b7f8-487ba46b509d"
      },
      "source": [
        "ex_id = example_dropdown.index\n",
        "ex = examples[ex_id]\n",
        "page = requests.get(ukgwa_prefix + ex[2] + \"/\" + ex[1])\n",
        "soup = BeautifulSoup(page.content, 'html.parser')\n",
        "\n",
        "print(\"Links from\", ex[2] + \"/\" + ex[1])\n",
        "links = soup.find_all('a')\n",
        "summaries = []\n",
        "\n",
        "\n",
        "for ln in links:\n",
        "    if ln.has_attr('href'):\n",
        "        href = ln['href']\n",
        "        if href[0] == \"#\":\n",
        "            continue\n",
        "        if href[0:2] == \"./\":\n",
        "            href = href[2:]\n",
        "        parent_url = UKGWAurl(ukgwa_prefix + ex[2] + \"/\" + ex[1])\n",
        "        link_url = UKGWAurl(href, parent_url)\n",
        "        if link_url.get_domain() != parent_url.get_domain():\n",
        "            continue\n",
        "        print(\"\\t\", href, link_url)\n",
        "        page = requests.get(link_url)\n",
        "        soup = BeautifulSoup(page.content, 'html.parser')\n",
        "        extractor = extractors.ArticleExtractor()\n",
        "        content = extractor.get_content(str(soup))\n",
        "        summary = summarizer.summarize(content, ratio = 0.2)\n",
        "        summaries.append(summary)\n"
      ],
      "execution_count": null,
      "outputs": [
        {
          "output_type": "stream",
          "text": [
            "Links from 20140402194840/http://www.ukbms.org\n",
            "\t Default.aspx https://webarchive.nationalarchives.gov.uk/20140402194840/http://www.ukbms.org/Default.aspx\n",
            "\t involved.aspx https://webarchive.nationalarchives.gov.uk/20140402194840/http://www.ukbms.org/involved.aspx\n",
            "\t wcbs.aspx https://webarchive.nationalarchives.gov.uk/20140402194840/http://www.ukbms.org/wcbs.aspx\n",
            "\t indicators.aspx https://webarchive.nationalarchives.gov.uk/20140402194840/http://www.ukbms.org/indicators.aspx\n",
            "\t KeyFindings.aspx https://webarchive.nationalarchives.gov.uk/20140402194840/http://www.ukbms.org/KeyFindings.aspx\n",
            "\t news.aspx https://webarchive.nationalarchives.gov.uk/20140402194840/http://www.ukbms.org/news.aspx\n",
            "\t reportsAndPublications.aspx https://webarchive.nationalarchives.gov.uk/20140402194840/http://www.ukbms.org/reportsAndPublications.aspx\n",
            "\t resources.aspx https://webarchive.nationalarchives.gov.uk/20140402194840/http://www.ukbms.org/resources.aspx\n",
            "\t Specieslist.aspx https://webarchive.nationalarchives.gov.uk/20140402194840/http://www.ukbms.org/Specieslist.aspx\n",
            "\t map.aspx https://webarchive.nationalarchives.gov.uk/20140402194840/http://www.ukbms.org/map.aspx\n",
            "\t About.aspx https://webarchive.nationalarchives.gov.uk/20140402194840/http://www.ukbms.org/About.aspx\n",
            "\t Methods.aspx https://webarchive.nationalarchives.gov.uk/20140402194840/http://www.ukbms.org/Methods.aspx\n",
            "\t Obtaining.aspx https://webarchive.nationalarchives.gov.uk/20140402194840/http://www.ukbms.org/Obtaining.aspx\n",
            "\t Links.aspx https://webarchive.nationalarchives.gov.uk/20140402194840/http://www.ukbms.org/Links.aspx\n",
            "\t Contacts.aspx https://webarchive.nationalarchives.gov.uk/20140402194840/http://www.ukbms.org/Contacts.aspx\n",
            "\t wcbs.aspx https://webarchive.nationalarchives.gov.uk/20140402194840/http://www.ukbms.org/wcbs.aspx\n",
            "\t about.aspx https://webarchive.nationalarchives.gov.uk/20140402194840/http://www.ukbms.org/about.aspx\n",
            "\t Methods.aspx https://webarchive.nationalarchives.gov.uk/20140402194840/http://www.ukbms.org/Methods.aspx\n",
            "\t Obtaining.aspx https://webarchive.nationalarchives.gov.uk/20140402194840/http://www.ukbms.org/Obtaining.aspx\n",
            "\t Downloads\\Wider_Countryside\\Newsletter_WCBS2013.pdf https://webarchive.nationalarchives.gov.uk/20140402194840/http://www.ukbms.org/Downloads\\Wider_Countryside\\Newsletter_WCBS2013.pdf\n",
            "\t https://webarchive.nationalarchives.gov.uk/20140402194840/http://www.ukbms.org/mydata https://webarchive.nationalarchives.gov.uk/20140402194840/http://www.ukbms.org/mydata\n",
            "\t KeyFindings.aspx https://webarchive.nationalarchives.gov.uk/20140402194840/http://www.ukbms.org/KeyFindings.aspx\n",
            "\t wider_countryside_reporting_visit.aspx https://webarchive.nationalarchives.gov.uk/20140402194840/http://www.ukbms.org/wider_countryside_reporting_visit.aspx\n"
          ],
          "name": "stdout"
        }
      ]
    },
    {
      "cell_type": "markdown",
      "metadata": {
        "id": "1hKs8N6f5IKX"
      },
      "source": [
        "Next we concatenate all of those summaries together into one big document and summarise that. You can experiment with the length of the summary using the word count parameter but 100 words produces a nice summary which provides an overview of the web site.\n",
        "\n",
        "It is not a catalogue description, it is built from heuristics not knowledge, but it is a powerful technique and this notebook environment provides an ideal playground to try it out.\n",
        "\n",
        "Run this code to see the result and to compare it against the human curated Administrative History:"
      ]
    },
    {
      "cell_type": "code",
      "metadata": {
        "colab": {
          "base_uri": "https://localhost:8080/"
        },
        "id": "-OC-ZkNi1gjv",
        "outputId": "e081a792-4ad3-43fe-d377-4ea38478af12"
      },
      "source": [
        "all_summaries = \"\\n\".join(summaries)\n",
        "print(ex[1])\n",
        "print(\"\")\n",
        "print(\"Auto summary\")\n",
        "print(summarizer.summarize(all_summaries, word_count=100))\n",
        "print(\"\")\n",
        "print(\"Admin History\")\n",
        "if ex[0] in example_admin:\n",
        "    print(example_admin[ex[1]])\n",
        "else:\n",
        "    print(example_admin[ex[1] + \"/\"])\n",
        "\n"
      ],
      "execution_count": null,
      "outputs": [
        {
          "output_type": "stream",
          "text": [
            "http://www.ukbms.org\n",
            "\n",
            "Auto summary\n",
            "The Wider Countryside Butterfly Survey (WCBS) is the main scheme for monitoring population changes of the UK's common and widespread butterflies.\n",
            "The Wider Countryside Butterfly Survey (WCBS) is the main scheme for monitoring population changes of the UK's common and widespread butterflies.\n",
            "The WCBS is the most comprehensive UK-wide survey of insect abundance to use a robust random sampling framework and is important in assessing the changing status of butterfly species in the wider countryside and in providing an indicator of the health of nature.\n",
            "\n",
            "Admin History\n",
            "The UK Butterfly Monitoring Scheme (UKBMS) is run as a partnership between the Centre for Ecology and Hydrology (CEH), Butterfly Conservation (BC) and the Joint Nature Conservation Committee (JNCC).\n"
          ],
          "name": "stdout"
        }
      ]
    }
  ]
}